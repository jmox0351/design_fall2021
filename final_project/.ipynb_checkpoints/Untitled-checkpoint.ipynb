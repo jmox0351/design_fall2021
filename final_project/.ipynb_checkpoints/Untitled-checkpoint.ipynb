{
 "cells": [
  {
   "cell_type": "markdown",
   "id": "9a63b574",
   "metadata": {},
   "source": [
    "We begin with a mass balance around the entire system:\n",
    "![title](pfd.png)"
   ]
  },
  {
   "cell_type": "markdown",
   "id": "9b22a92b",
   "metadata": {},
   "source": [
    "We can see there are 4 inlets and 5 outlets. The inlets are at the top left which are pure ethylene and pure chloride saturated vapor, and to the heater which takes in pure oxygen and ethylene. The outlets are from distilation column 2, nearly pure vinyl chloride, from distilation column 4, heavy impurities, from the 3 phase seperator which are nearly pure water and light impurities from distillation column 3. We will use the reactions for the HYSYS section of the problem statements.\n",
    "![title](rxns.png)"
   ]
  },
  {
   "cell_type": "markdown",
   "id": "417285fb",
   "metadata": {},
   "source": [
    "We can bound the necessary feeds by taking the two extremes for the pyrolysis reactor. The upper bound is a single pass through and the lower bound is complete conversion of the ethylene along the paths listed. For the lower bound we can see the feed would be."
   ]
  },
  {
   "cell_type": "code",
   "execution_count": 6,
   "id": "ec47ee6c",
   "metadata": {},
   "outputs": [
    {
     "name": "stdout",
     "output_type": "stream",
     "text": [
      "lower bound is 37977.69 kg/hr upper bound is 65478.77 kg/hr of ethylene feed\n"
     ]
    }
   ],
   "source": [
    "upper = \"{:.2f}\".format(80000/2.2/((0.995*0.58 + 0.92*0.58)/2))\n",
    "#average the conversions because we know the ethylene streams are equal\n",
    "lower = \"{:.2f}\".format(80000/2.2/((0.995 + 0.92)/2))\n",
    "print(\"lower bound is\", lower, \"kg/hr upper bound is\", upper, \"kg/hr of ethylene feed\")"
   ]
  },
  {
   "cell_type": "markdown",
   "id": "5431675d",
   "metadata": {},
   "source": [
    "The ethylene feed is split equally between the direct chlorination reactor and the heater (given) so we should divide the numbers above by 2."
   ]
  },
  {
   "cell_type": "code",
   "execution_count": null,
   "id": "552ea265",
   "metadata": {},
   "outputs": [],
   "source": []
  }
 ],
 "metadata": {
  "kernelspec": {
   "display_name": "Python 3",
   "language": "python",
   "name": "python3"
  },
  "language_info": {
   "codemirror_mode": {
    "name": "ipython",
    "version": 3
   },
   "file_extension": ".py",
   "mimetype": "text/x-python",
   "name": "python",
   "nbconvert_exporter": "python",
   "pygments_lexer": "ipython3",
   "version": "3.8.8"
  }
 },
 "nbformat": 4,
 "nbformat_minor": 5
}
