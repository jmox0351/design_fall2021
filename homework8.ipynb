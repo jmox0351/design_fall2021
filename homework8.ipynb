{
 "cells": [
  {
   "cell_type": "code",
   "execution_count": 36,
   "id": "daab0d73",
   "metadata": {},
   "outputs": [],
   "source": [
    "using Plots\n",
    "using LinearAlgebra\n",
    "using Statistics\n",
    "using DifferentialEquations"
   ]
  },
  {
   "cell_type": "code",
   "execution_count": null,
   "id": "fc99e73f",
   "metadata": {},
   "outputs": [],
   "source": [
    "#physical constants for rate expressions\n",
    "const a1 = 10^4.2\n",
    "const ea1 = 4.01e4\n",
    "const a2 = 10^13.23\n",
    "const ea2 = 1.2804e5\n",
    "const a3 = 10^6.78\n",
    "const ea3 = 1.12e5\n",
    "const R = 8.314\n",
    "const gc = 1.0\n",
    "const ϕ = 0.5\n",
    "const μ = 0.025\n",
    "const ρc = 3950"
   ]
  },
  {
   "cell_type": "code",
   "execution_count": 4,
   "id": "8d175814",
   "metadata": {},
   "outputs": [
    {
     "data": {
      "text/plain": [
       "k4b (generic function with 1 method)"
      ]
     },
     "execution_count": 4,
     "metadata": {},
     "output_type": "execute_result"
    }
   ],
   "source": [
    "arr(ao, ea, T) = ao*exp(-ea/8.314/T) #need to be in units of J/mol and K\n",
    "k4f(T) = 1000*exp(17.13-13000/(1.987*T))\n",
    "k4b(T)  = exp(5.4+16000/(1.987*T))"
   ]
  },
  {
   "cell_type": "markdown",
   "id": "832e65f2",
   "metadata": {},
   "source": [
    "We begin with the equations for the rates:\n",
    "$$\\frac{\\partial O_2}{\\partial t} = -\\frac{1}{2}r_1 - \\frac{1}{2}r_2 - 3r_3 - r_{4f} + r_{4r}$$\n",
    "$$\\frac{\\partial Et}{\\partial t} = -r_1-r_3$$\n",
    "$$\\frac{\\partial HCl}{\\partial t} = -2r_1 - r_2 - 4r_{4f} + 4r_{4r}$$\n",
    "$$\\frac{\\partial EtCl_2}{\\partial t} = r_1 - r_2$$\n",
    "$$\\frac{\\partial H_2O}{\\partial t} = r_1 + r_2 + 2r_3 + 2r_{4f} - 2r_{4r}$$\n",
    "$$\\frac{\\partial EtCl_3}{\\partial t} = r_2$$\n",
    "$$\\frac{\\partial CO_2}{\\partial t} = 2r_3$$\n",
    "$$\\frac{\\partial Cl_2}{\\partial t} = 2r_{4f} - 2r_{4r}$$\n",
    "\n",
    "Then we get the rate equations from Lakshmanan:\n",
    "$$r_1 = k_1p_{Et}p_{Cl_2}^{0.5}$$\n",
    "$$r_2 = k_2p_{EtCl_2}p_{Cl_2}^{0.5}$$\n",
    "$$r_3 = k_3p_{0_2}p_{Cl_2}^{0.5}p_{Et}$$\n",
    "$$r_4 = K_4p_{O_2}p_{Cl_2}^{-1} \\; K_4 = \\frac{1000*exp(17.13-13000/(1.987*T))}{exp(5.4+16000/(1.987*T))}$$\n",
    "Using the work of Falconer and Brown we can restate the 8 equations above in the terms: $\\frac{\\partial F_i}{\\partial V}$\n",
    "\n"
   ]
  },
  {
   "cell_type": "markdown",
   "id": "0d5acacd",
   "metadata": {},
   "source": [
    "$$\\frac{\\partial F_{O_2}}{\\partial V} = -\\frac{1}{2} k_1 (\\frac{P}{F_{tot}RT})^{3/2}F_{Et}F_{Cl_2}^{0.5} - \\frac{1}{2} k_2 (\\frac{P}{F_{tot}RT})^{3/2}F_{Et}F_{Cl_2}^{0.5} - 3k_3 (\\frac{P}{F_{tot}RT})^{2.5} F_{O_2}F_{Cl_2}^{0.5}F_{Et} - \\frac{1}{2}k_{4f}F_{O_2}F_{Cl_2}^{-1} + \\frac{1}{2}k_{4b}F_{O_2}F_{Cl_2}^{-1}$$\n",
    "$$\\frac{\\partial F_{Et}}{\\partial V} = -k_1 (\\frac{P}{F_{tot}RT})^{3/2}F_{Et}F_{Cl_2}^{0.5} - k_3 (\\frac{P}{F_{tot}RT})^{2.5} F_{O_2}F_{Cl_2}^{0.5}F_{Et}$$\n",
    "$$\\frac{\\partial F_{HCl}}{\\partial V} = -2k_1 (\\frac{P}{F_{tot}RT})^{3/2}F_{Et}F_{Cl_2}^{0.5} - k_2 (\\frac{P}{F_{tot}RT})^{3/2}F_{Et}F_{Cl_2}^{0.5} - 2k_{4f}F_{O_2}F_{Cl_2}^{-1} + 2k_{4b}F_{O_2}F_{Cl_2}^{-1}$$\n",
    "$$\\frac{\\partial F_{EtCl_2}}{\\partial V} = k_1(\\frac{P}{F_{tot}RT})^{3/2}F_{Et}F_{Cl_2}^{0.5} - k_2 (\\frac{P}{F_{tot}RT})^{3/2}F_{Et}F_{Cl_2}^{0.5}$$\n",
    "$$\\frac{\\partial F_{H_2O}}{\\partial V} = k_1 (\\frac{P}{F_{tot}RT})^{3/2}F_{Et}F_{Cl_2}^{0.5} + k_2 (\\frac{P}{F_{tot}RT})^{3/2}F_{Et}F_{Cl_2}^{0.5} + 2k_3 (\\frac{P}{F_{tot}RT})^{2.5} F_{O_2}F_{Cl_2}^{0.5}F_{Et} + 2k_{4f}F_{O_2}F_{Cl_2}^{-1} - 2k_{4b}F_{O_2}F_{Cl_2}^{-1}$$\n",
    "$$\\frac{\\partial F_{EtCl_3}}{\\partial V} = k_2 (\\frac{P}{F_{tot}RT})^{3/2}F_{Et}F_{Cl_2}^{0.5}$$\n",
    "$$\\frac{\\partial F_{CO_2}}{\\partial V} = 2k_3 (\\frac{P}{F_{tot}RT})^{2.5} F_{O_2}F_{Cl_2}^{0.5}F_{Et}$$\n",
    "$$\\frac{\\partial F_{Cl_2}}{\\partial V} = k_{4f}F_{O_2}F_{Cl_2}^{-1} + k_{4b}F_{O_2}F_{Cl_2}^{-1}$$"
   ]
  },
  {
   "cell_type": "markdown",
   "id": "34ba0d40",
   "metadata": {},
   "source": [
    "Now we can use Falconer and Brown's example of how to solve for $\\frac{dT}{dV}$ for the working fluid and then use $m_{in} c_{p, in} \\Delta T_{in} = m_{out}c_{p,out}\\Delta T_{out}$ to solve for the temperature of the coolant\n",
    "\n",
    "Finally we use the Ergun equation to solve for:\n",
    "$$\\frac{\\partial P}{\\partial V} = \\frac{\\partial P}{\\partial W} \\cdot \\frac{\\partial W}{\\partial V}$$\n",
    "$$\\frac{\\partial W}{\\partial V} = \\rho_{cat}(1-\\phi)$$\n"
   ]
  },
  {
   "cell_type": "code",
   "execution_count": 38,
   "id": "861b1ea0",
   "metadata": {},
   "outputs": [
    {
     "data": {
      "text/plain": [
       "vinylCh (generic function with 1 method)"
      ]
     },
     "execution_count": 38,
     "metadata": {},
     "output_type": "execute_result"
    }
   ],
   "source": [
    "#our order of u will be 8 materials kgmol/hr, working fluid temp K, coolant temp K, pressure kPa \n",
    "#parameters will be vector of cps in kJ/kgmol-K, vector of DeltaH's in kJ/kgmol, tube diameter, number tubes,\n",
    "#Mw vector, Po, To, Fto\n",
    "function vinylCh(du,u,p,t) \n",
    "    fTot = sum(u[1:8])\n",
    "    α = u[11]/(fTot*R*u[9]) #using to avoid recomputing this \n",
    "    β = u[2]*sqrt(u[8]) #This gets used for reactions 1 and 2\n",
    "    γ = u[1]*sqrt(u[8])*u[2] #reaction 3\n",
    "    δ = u[1]/u[8] #reaction 4\n",
    "    k1 = arr(a1, ea1, u[9])\n",
    "    k2 = arr(a2, ea2, u[9])\n",
    "    k3 = arr(a3, ea3, u[9])\n",
    "    k4f = k4f(u[9])\n",
    "    k4b = k4b(u[9])\n",
    "    fCpTot = sum(u[1:8] .* p[1])\n",
    "    hRxn = k1*u[2]*-p[2,1]+k2*u[4]*-p[2,2]+k3*u[2]*-p[2,3]+k4f*u[1]*-p[2,4]+k4b*u[1]*p[2,5]\n",
    "    Ac = (p[3]/4)^2*pi*p[4]\n",
    "    G = sum(u[1:8] ./ p[5])/Ac\n",
    "    bet = G*(1-ϕ)/(α*mean(p[50])*1000*gc*1/8*p[3]*ϕ^3) * ((150*(1-ϕ)*μ)/(1/8*p[3])+1.75*G)\n",
    "    alp = 2*bet/(Ac*ρc*(1-ϕ)*p[6])\n",
    "    \n",
    "    \n",
    "    du[1] = -0.5*k1*α^1.5*β - -0.5*k2*α^1.5*β - 3*k3*α^2.5*γ - 0.5*kf4*γ + 0.5*k4b*γ\n",
    "    du[2] = -k1*α^1.5*β - k3*α^2.5*γ\n",
    "    du[3] = -2*k1*α^1.5*β - k2*α^1.5*β - 2*k4f*δ + 2*k4b*δ\n",
    "    du[4] = k1*α^1.5*β - k2*α^1.5*β\n",
    "    du[5] = k1*α^1.5*β + k2*α^1.5*β +2*k3*α^2.5*γ* + 2*k4f*δ - 2*kfb*δ\n",
    "    du[6] = k2*α^1.5*β\n",
    "    du[7] = 2*α^2.5*γ\n",
    "    du[8] = k4f*δ - k4b*δ\n",
    "    du[9] = hRxn/fCpTot - 4*300*(u[9]-u[10])/p[3]\n",
    "    du[10] = fCpTot*du[9]/(875.88*10) #using 10kgmol/hr of dowtherm A \n",
    "    du[11] = -alp/2 * u[9]/p[7] * p[6]^2/u[11] * sum(u[1:8])/p[8]\n",
    "end"
   ]
  },
  {
   "cell_type": "code",
   "execution_count": 37,
   "id": "74b1133c",
   "metadata": {},
   "outputs": [
    {
     "data": {
      "text/plain": [
       "0.0"
      ]
     },
     "execution_count": 37,
     "metadata": {},
     "output_type": "execute_result"
    }
   ],
   "source": [
    "t1 = ones(2)\n",
    "t2 = zeros(4)\n",
    "t3 = 1.0\n",
    "t4 = [t1,t2,t3]\n",
    "mean(t4[2])"
   ]
  },
  {
   "cell_type": "code",
   "execution_count": null,
   "id": "996e0b5f",
   "metadata": {},
   "outputs": [],
   "source": []
  }
 ],
 "metadata": {
  "kernelspec": {
   "display_name": "Julia 1.6.1",
   "language": "julia",
   "name": "julia-1.6"
  },
  "language_info": {
   "file_extension": ".jl",
   "mimetype": "application/julia",
   "name": "julia",
   "version": "1.6.1"
  }
 },
 "nbformat": 4,
 "nbformat_minor": 5
}
