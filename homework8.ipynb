{
 "cells": [
  {
   "cell_type": "code",
   "execution_count": 1,
   "id": "daab0d73",
   "metadata": {},
   "outputs": [],
   "source": [
    "using Plots\n",
    "using DifferentialEquations"
   ]
  },
  {
   "cell_type": "code",
   "execution_count": 4,
   "id": "8d175814",
   "metadata": {},
   "outputs": [
    {
     "data": {
      "text/plain": [
       "arr (generic function with 1 method)"
      ]
     },
     "execution_count": 4,
     "metadata": {},
     "output_type": "execute_result"
    }
   ],
   "source": [
    "arr(ao, ea, T) = ao*exp(ea/8.314/T) #need to be in units of J/mol and K"
   ]
  },
  {
   "cell_type": "markdown",
   "id": "832e65f2",
   "metadata": {},
   "source": [
    "We begin with the equations for the rates:\n",
    "$$\\frac{\\partial"
   ]
  }
 ],
 "metadata": {
  "kernelspec": {
   "display_name": "Julia 1.6.1",
   "language": "julia",
   "name": "julia-1.6"
  },
  "language_info": {
   "file_extension": ".jl",
   "mimetype": "application/julia",
   "name": "julia",
   "version": "1.6.1"
  }
 },
 "nbformat": 4,
 "nbformat_minor": 5
}
