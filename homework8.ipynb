{
 "cells": [
  {
   "cell_type": "code",
   "execution_count": 36,
   "id": "daab0d73",
   "metadata": {},
   "outputs": [],
   "source": [
    "using Plots\n",
    "using LinearAlgebra\n",
    "using Statistics\n",
    "using DifferentialEquations"
   ]
  },
  {
   "cell_type": "code",
   "execution_count": null,
   "id": "f286b3f5",
   "metadata": {},
   "outputs": [],
   "source": [
    "#physical constants for rate expressions\n",
    "const a1 = 10^4.2\n",
    "const ea1 = 4.01e4\n",
    "const a2 = 10^13.23\n",
    "const ea2 = 1.2804e5\n",
    "const a3 = 10^6.78\n",
    "const ea3 = 1.12e5\n",
    "const R = 8.314\n",
    "const gc = 1.0\n",
    "const ϕ = 0.5\n",
    "const μ = 0.025\n",
    "const ρc = 3950"
   ]
  },
  {
   "cell_type": "code",
   "execution_count": 60,
   "id": "8d175814",
   "metadata": {},
   "outputs": [
    {
     "data": {
      "text/plain": [
       "k4b (generic function with 1 method)"
      ]
     },
     "execution_count": 60,
     "metadata": {},
     "output_type": "execute_result"
    }
   ],
   "source": [
    "function arr(ao, ea, T) \n",
    "    ao*exp(-ea/8.314/T) \n",
    "end\n",
    "\n",
    "function k4f(T) \n",
    "    1000*exp(17.13-13000/(1.987*T))\n",
    "end\n",
    "\n",
    "function k4b(T) \n",
    "    exp(5.4+16000/(1.987*T))\n",
    "end"
   ]
  },
  {
   "cell_type": "markdown",
   "id": "832e65f2",
   "metadata": {},
   "source": [
    "We begin with the equations for the rates:\n",
    "$$\\frac{\\partial O_2}{\\partial t} = -\\frac{1}{2}r_1 - \\frac{1}{2}r_2 - 3r_3 - r_{4f} + r_{4r}$$\n",
    "$$\\frac{\\partial Et}{\\partial t} = -r_1-r_3$$\n",
    "$$\\frac{\\partial HCl}{\\partial t} = -2r_1 - r_2 - 4r_{4f} + 4r_{4r}$$\n",
    "$$\\frac{\\partial EtCl_2}{\\partial t} = r_1 - r_2$$\n",
    "$$\\frac{\\partial H_2O}{\\partial t} = r_1 + r_2 + 2r_3 + 2r_{4f} - 2r_{4r}$$\n",
    "$$\\frac{\\partial EtCl_3}{\\partial t} = r_2$$\n",
    "$$\\frac{\\partial CO_2}{\\partial t} = 2r_3$$\n",
    "$$\\frac{\\partial Cl_2}{\\partial t} = 2r_{4f} - 2r_{4r}$$\n",
    "\n",
    "Then we get the rate equations from Lakshmanan:\n",
    "$$r_1 = k_1p_{Et}p_{Cl_2}^{0.5}$$\n",
    "$$r_2 = k_2p_{EtCl_2}p_{Cl_2}^{0.5}$$\n",
    "$$r_3 = k_3p_{0_2}p_{Cl_2}^{0.5}p_{Et}$$\n",
    "$$r_4 = K_4p_{O_2}p_{Cl_2}^{-1} \\; K_4 = \\frac{1000*exp(17.13-13000/(1.987*T))}{exp(5.4+16000/(1.987*T))}$$\n",
    "Using the work of Falconer and Brown we can restate the 8 equations above in the terms: $\\frac{\\partial F_i}{\\partial V}$\n",
    "\n"
   ]
  },
  {
   "cell_type": "markdown",
   "id": "67c37004",
   "metadata": {},
   "source": [
    "$$\\frac{\\partial F_{O_2}}{\\partial V} = -\\frac{1}{2} k_1 (\\frac{P}{F_{tot}RT})^{3/2}F_{Et}F_{Cl_2}^{0.5} - \\frac{1}{2} k_2 (\\frac{P}{F_{tot}RT})^{3/2}F_{Et}F_{Cl_2}^{0.5} - 3k_3 (\\frac{P}{F_{tot}RT})^{2.5} F_{O_2}F_{Cl_2}^{0.5}F_{Et} - \\frac{1}{2}k_{4f}F_{O_2}F_{Cl_2}^{-1} + \\frac{1}{2}k_{4b}F_{O_2}F_{Cl_2}^{-1}$$\n",
    "$$\\frac{\\partial F_{Et}}{\\partial V} = -k_1 (\\frac{P}{F_{tot}RT})^{3/2}F_{Et}F_{Cl_2}^{0.5} - k_3 (\\frac{P}{F_{tot}RT})^{2.5} F_{O_2}F_{Cl_2}^{0.5}F_{Et}$$\n",
    "$$\\frac{\\partial F_{HCl}}{\\partial V} = -2k_1 (\\frac{P}{F_{tot}RT})^{3/2}F_{Et}F_{Cl_2}^{0.5} - k_2 (\\frac{P}{F_{tot}RT})^{3/2}F_{Et}F_{Cl_2}^{0.5} - 2k_{4f}F_{O_2}F_{Cl_2}^{-1} + 2k_{4b}F_{O_2}F_{Cl_2}^{-1}$$\n",
    "$$\\frac{\\partial F_{EtCl_2}}{\\partial V} = k_1(\\frac{P}{F_{tot}RT})^{3/2}F_{Et}F_{Cl_2}^{0.5} - k_2 (\\frac{P}{F_{tot}RT})^{3/2}F_{Et}F_{Cl_2}^{0.5}$$\n",
    "$$\\frac{\\partial F_{H_2O}}{\\partial V} = k_1 (\\frac{P}{F_{tot}RT})^{3/2}F_{Et}F_{Cl_2}^{0.5} + k_2 (\\frac{P}{F_{tot}RT})^{3/2}F_{Et}F_{Cl_2}^{0.5} + 2k_3 (\\frac{P}{F_{tot}RT})^{2.5} F_{O_2}F_{Cl_2}^{0.5}F_{Et} + 2k_{4f}F_{O_2}F_{Cl_2}^{-1} - 2k_{4b}F_{O_2}F_{Cl_2}^{-1}$$\n",
    "$$\\frac{\\partial F_{EtCl_3}}{\\partial V} = k_2 (\\frac{P}{F_{tot}RT})^{3/2}F_{Et}F_{Cl_2}^{0.5}$$\n",
    "$$\\frac{\\partial F_{CO_2}}{\\partial V} = 2k_3 (\\frac{P}{F_{tot}RT})^{2.5} F_{O_2}F_{Cl_2}^{0.5}F_{Et}$$\n",
    "$$\\frac{\\partial F_{Cl_2}}{\\partial V} = k_{4f}F_{O_2}F_{Cl_2}^{-1} + k_{4b}F_{O_2}F_{Cl_2}^{-1}$$"
   ]
  },
  {
   "cell_type": "markdown",
   "id": "562b0632",
   "metadata": {},
   "source": [
    "Now we can use Falconer and Brown's example of how to solve for $\\frac{dT}{dV}$ for the working fluid and then use $m_{in} c_{p, in} \\Delta T_{in} = m_{out}c_{p,out}\\Delta T_{out}$ to solve for the temperature of the coolant\n",
    "\n",
    "Finally we use the Ergun equation to solve for:\n",
    "$$\\frac{\\partial P}{\\partial V} = \\frac{\\partial P}{\\partial W} \\cdot \\frac{\\partial W}{\\partial V}$$\n",
    "$$\\frac{\\partial W}{\\partial V} = \\rho_{cat}(1-\\phi)$$\n",
    "$$\\frac{\\partial P}{\\partial W} = \\frac{-\\alpha}{2} \\frac{T}{T_0} \\frac{P_0}{P/P_0} \\frac{F_t}{F_t0}$$"
   ]
  },
  {
   "cell_type": "code",
   "execution_count": 82,
   "id": "a00920e1",
   "metadata": {},
   "outputs": [
    {
     "data": {
      "text/plain": [
       "vinylCh (generic function with 1 method)"
      ]
     },
     "execution_count": 82,
     "metadata": {},
     "output_type": "execute_result"
    }
   ],
   "source": [
    "#our order of u will be 8 materials kgmol/hr, working fluid temp K, coolant temp K, pressure kPa \n",
    "#parameters will be vector of cps in kJ/kgmol-K, vector of DeltaH's in kJ/kgmol, tube diameter, number tubes,\n",
    "#Mw vector, Po, To, Fto\n",
    "function vinylCh(du,u,p,t) \n",
    "    a1 = 10^4.2\n",
    "    ea1 = 4.01e4\n",
    "    a2 = 10^13.23\n",
    "    ea2 = 1.2804e5\n",
    "    a3 = 10^6.78\n",
    "    ea3 = 1.12e5\n",
    "    R = 8.314\n",
    "    gc = 1.0\n",
    "    ϕ = 0.5\n",
    "    μ = 0.025\n",
    "    ρc = 3950\n",
    "    \n",
    "    fTot = sum(u[1:8])\n",
    "    α = u[11]/(fTot*R*u[9]) #using to avoid recomputing this \n",
    "    β = u[2]*sqrt(u[8]) #This gets used for reactions 1 and 2\n",
    "    γ = u[1]*sqrt(u[8])*u[2] #reaction 3\n",
    "    δ = u[1]/u[8] #reaction 4\n",
    "    k1 = arr(a1, ea1, u[9])\n",
    "    k2 = arr(a2, ea2, u[9])\n",
    "    k3 = arr(a3, ea3, u[9])\n",
    "    k4for = k4f(u[9])\n",
    "    k4bac = k4b(u[9])\n",
    "    fCpTot = sum(u[1:8] .* p[1])\n",
    "    hRxn = k1*u[2]*-p[2][1]+k2*u[4]*-p[2][2]+k3*u[2]*-p[2][3]+k4for*u[1]*-p[2][4]+k4bac*u[1]*p[2][5]\n",
    "    Ac = (p[3]/4)^2*pi*p[4]\n",
    "    G = sum(u[1:8] ./ p[5])/Ac\n",
    "    bet = G*(1-ϕ)/(α*mean(p[5])*1000*gc*1/8*p[3]*ϕ^3) * ((150*(1-ϕ)*μ)/(1/8*p[3])+1.75*G)\n",
    "    alp = 2*bet/(Ac*ρc*(1-ϕ)*p[6])\n",
    "    \n",
    "    \n",
    "    du[1] = -0.5*k1*α^1.5*β - -0.5*k2*α^1.5*β - 3*k3*α^2.5*γ - 0.5*k4for*γ + 0.5*k4bac*γ\n",
    "    du[2] = -k1*α^1.5*β - k3*α^2.5*γ\n",
    "    du[3] = -2*k1*α^1.5*β - k2*α^1.5*β - 2*k4for*δ + 2*k4bac*δ\n",
    "    du[4] = k1*α^1.5*β - k2*α^1.5*β\n",
    "    du[5] = k1*α^1.5*β + k2*α^1.5*β +2*k3*α^2.5*γ* + 2*k4for*δ - 2*k4bac*δ\n",
    "    du[6] = k2*α^1.5*β\n",
    "    du[7] = 2*α^2.5*γ\n",
    "    du[8] = k4for*δ - k4bac*δ\n",
    "    du[9] = hRxn/fCpTot - 4*300*(u[9]-u[10])/p[3]\n",
    "    du[10] = -fCpTot*du[9]/(875.88*100) #using 100kgmol/hr of dowtherm A \n",
    "    du[11] = -alp/2 * u[9]/p[7] * p[6]/(u[11]/p[6]) * sum(u[1:8])/p[8] * ρc*(1-ϕ)\n",
    "end"
   ]
  },
  {
   "cell_type": "code",
   "execution_count": 92,
   "id": "97b3d2d3",
   "metadata": {},
   "outputs": [
    {
     "name": "stderr",
     "output_type": "stream",
     "text": [
      "┌ Warning: dt <= dtmin. Aborting. There is either an error in your model specification or the true solution is unstable.\n",
      "└ @ SciMLBase /home/billyboy/.julia/packages/SciMLBase/DXiE6/src/integrator_interface.jl:345\n"
     ]
    },
    {
     "data": {
      "text/plain": [
       "retcode: DtLessThanMin\n",
       "Interpolation: specialized 2nd order \"free\" stiffness-aware interpolation\n",
       "t: 27-element Vector{Float64}:\n",
       " 0.0\n",
       " 3.486271594124368e-13\n",
       " 4.1835259129492417e-13\n",
       " 7.783857481732753e-13\n",
       " 9.227708523098144e-13\n",
       " 1.3063858699915703e-12\n",
       " 1.5288352856230037e-12\n",
       " 1.937254423510088e-12\n",
       " 2.232485356430443e-12\n",
       " 2.6722628767800367e-12\n",
       " 3.1120403971296303e-12\n",
       " 3.6180967793687014e-12\n",
       " 3.8699950172503894e-12\n",
       " ⋮\n",
       " 4.2423245389415806e-12\n",
       " 4.283744192396378e-12\n",
       " 4.3119871890521354e-12\n",
       " 4.329406930144026e-12\n",
       " 4.339222217797302e-12\n",
       " 4.3452895421243105e-12\n",
       " 4.3492350564310434e-12\n",
       " 4.3515951349623555e-12\n",
       " 4.352972725219356e-12\n",
       " 4.353835643956754e-12\n",
       " 4.354378711669047e-12\n",
       " 4.35470172901945e-12\n",
       "u: 27-element Vector{Vector{Float64}}:\n",
       " [970.24, 970.24, 2910.75, 0.0, 0.0, 0.0, 0.0, 5.82, 540.0, 450.0, 2.0e6]\n",
       " [1270.9155281499022, 970.2399999999544, 2910.8387774321927, -1.0641878337898144e-10, -0.044387771024743304, 1.5177096126326454e-10, 4.3034854397582796e-9, 5.775611283782371, 540.1813037724502, 449.6708143011821, 1.9999999999903229e6]\n",
       " [1340.8113432920634, 970.2399999999458, 2910.85956571244, -1.2665585025426162e-10, -0.05478151074471642, 1.805824640043453e-10, 5.217530241598241e-9, 5.765217143635701, 540.2221269133074, 449.59410467165526, 1.9999999999880744e6]\n",
       " [1765.872465137425, 970.2399999999043, 2910.9871809550013, -2.2478436004247098e-10, -0.11858561314527279, 3.1999279477377023e-10, 1.0194033492129472e-8, 5.7014095222441314, 540.4609075486466, 449.1261396894921, 1.9999999999741162e6]\n",
       " [1969.520002606596, 970.239999999889, 2911.049101979289, -2.6118476671934397e-10, -0.1495439653994205, 3.7156932674926943e-10, 1.2269552688588208e-8, 5.6704490100593254, 540.5698497354942, 448.9009859819992, 1.999999999967067e6]\n",
       " [2625.4899161329686, 970.2399999998527, 2911.252002037417, -3.4883517245494493e-10, -0.2509858805237709, 4.953571153831384e-10, 1.7898848147997224e-8, 5.5689989808973674, 540.9002589656236, 448.1715844728765, 1.9999999999421474e6]\n",
       " [3092.58641209456, 970.2399999998343, 2911.399975747432, -3.9385226242708624e-10, -0.3249666172275857, 5.586755819344546e-10, 2.113725719862463e-8, 5.495012125839839, 541.1186283725041, 447.6480417824487, 1.99999999992154e6]\n",
       " [4155.3299083226175, 970.2399999998055, 2911.748036252743, -4.6502516481226026e-10, -0.49898378772704816, 6.582952227371629e-10, 2.6831374458480443e-8, 5.320981873106091, 541.5732380683769, 446.4435738410346, 1.999999999863547e6]\n",
       " [5112.854692157515, 970.2399999997884, 2912.077064270661, -5.080168704922563e-10, -0.6634887319593915, 7.181170898568614e-10, 3.0601125456142655e-8, 5.156467864100394, 541.9421014204008, 445.34083364962027, 1.999999999793526e6]\n",
       " [6890.335884217783, 970.2399999997684, 2912.732603318947, -5.596583322386951e-10, -0.9912508524604066, 7.894869865923056e-10, 3.548980103017326e-8, 4.828698339902124, 542.5509767746485, 443.2449046449174, 1.9999999996046517e6]\n",
       " [9129.024353429451, 970.2399999997538, 2913.66643939611, -5.987463360716123e-10, -1.4581808911378553, 8.430429662929928e-10, 3.942135873100042e-8, 4.361780301279273, 543.2195830326322, 440.49440807451504, 1.99999999920647e6]\n",
       " [12262.714626637804, 970.239999999742, 2915.294401627788, -6.309862990965616e-10, -2.272229758401701, 8.86787250003444e-10, 4.2781732796694057e-8, 3.5477991854068516, 544.046258609172, 436.35133358805234, 1.9999999981657055e6]\n",
       " [13967.826030061804, 970.2399999997378, 2916.4892765205122, -6.429777647449327e-10, -2.8697448204692466, 9.029303283917919e-10, 4.404247041094828e-8, 2.9503617390325574, 544.4735660798498, 433.86065136629736, 1.9999999971967812e6]\n",
       " ⋮\n",
       " [16371.908311613215, 970.2399999997334, 2919.4559847691285, -6.559379157509522e-10, -4.353360483114103, 9.202686712130305e-10, 4.5400490880163384e-8, 1.467007614711542, 545.1177672663629, 429.65461613751836, 1.9999999948961835e6]\n",
       " [16590.980192970717, 970.2399999997331, 2920.050028991049, -6.569496537428721e-10, -4.650445001025794, 9.216160560273006e-10, 4.550569505665627e-8, 1.169985503750142, 545.1899995399625, 429.1522014025633, 1.9999999945662133e6]\n",
       " [16724.917877997068, 970.2399999997328, 2920.5675807048224, -6.575570556672163e-10, -4.9092779593645055, 9.2242438607481e-10, 4.556873156045984e-8, 0.9112096468629776, 545.2392801749731, 428.80652417039164, 1.9999999943332623e6]\n",
       " [16798.08542864243, 970.2399999997327, 2920.9807637520457, -6.57885502089104e-10, -5.115917032352828, 9.228612776900828e-10, 4.5602768906182754e-8, 0.7046181232509086, 545.2696813631804, 428.59222674346285, 1.9999999941866465e6]\n",
       " [16834.569397154064, 970.2399999997327, 2921.280409061585, -6.580484400908767e-10, -5.265775370580341, 9.230779535181033e-10, 4.561963850310637e-8, 0.5547954684811081, 545.286811554902, 428.4711636882122, 1.9999999941031488e6]\n",
       " [16854.609126417632, 970.2399999997327, 2921.5159163174953, -6.581377147377379e-10, -5.383557826612711, 9.231966521333423e-10, 4.5628875985037293e-8, 0.4370418405259189, 545.2974002529286, 428.3962312294075, 1.9999999940512502e6]\n",
       " [16866.147536876775, 970.2399999997327, 2921.71165925192, -6.58189049929211e-10, -5.481453837687176, 9.232648998666466e-10, 4.563418567057575e-8, 0.3391703733135288, 545.3042856598324, 428.3474694492033, 1.9999999940173973e6]\n",
       " [16872.232605175857, 970.2399999997327, 2921.8624607627326, -6.582161046357007e-10, -5.556873908458432, 9.233008655144522e-10, 4.563698325193403e-8, 0.26376961790721704, 545.3084041150295, 428.31829088961706, 1.9999999939971128e6]\n",
       " [16875.372714647878, 970.2399999997327, 2921.975153618009, -6.5823006137856e-10, -5.6132350310445, 9.233194184465206e-10, 4.563842620972743e-8, 0.20742319026905034, 545.3108080023632, 428.3012560744908, 1.999999993985262e6]\n",
       " [16877.115677736892, 970.2399999997327, 2922.065076042865, -6.582378071206067e-10, -5.658208149022037, 9.233297147554928e-10, 4.563922694481246e-8, 0.16246197784101302, 545.3123137563933, 428.29058453845624, 1.9999999939778352e6]\n",
       " [16878.08485961497, 970.2399999997327, 2922.1375740073195, -6.582421138710773e-10, -5.69446686084664, 9.233354395777717e-10, 4.563967213671336e-8, 0.1262129956136218, 545.3132613694446, 428.2838682182314, 1.99999999397316e6]\n",
       " [16878.593468790306, 970.2399999997327, 2922.1929761013666, -6.582443739072793e-10, -5.722175432425818, 9.23338443743266e-10, 4.563990574866427e-8, 0.09851194859005225, 545.3138250046027, 428.2798732500308, 1.9999999939703788e6]"
      ]
     },
     "execution_count": 92,
     "metadata": {},
     "output_type": "execute_result"
    }
   ],
   "source": [
    "u0 = [970.24,970.24,2910.75,0.0,0.0,0.0,0.0,5.82,540,450,2000e3]\n",
    "diam = 0.02\n",
    "tubes = 100\n",
    "vspan = (0.0,3.6*sum(u0[1:8])/100)\n",
    "cps = [0.0293,0.0427,0.0291,0.0772,0.0336,0.0846,0.0371,0.0336] .* 1000\n",
    "dH = [-236.22,-165.15,-1299.78,-111.97,111.97] .* 1000\n",
    "Mw = [32,26.04,36.46,96.94,18,131.38,44.01,70.9]\n",
    "po = 2000\n",
    "to = 540\n",
    "fto = sum(u0[1:8])\n",
    "p = [cps,dH,diam,tubes,Mw,po,to,fto]\n",
    "prob = ODEProblem(vinylCh, u0, vspan, p)\n",
    "sol = solve(prob,Rosenbrock23())"
   ]
  },
  {
   "cell_type": "markdown",
   "id": "0290cc8f",
   "metadata": {},
   "source": [
    "We can see that our simulation did not converge even when we used a stiff solver, Rosenbrock23. We are not completely sure why the simulation failed but our best guess is a unit mismatch. \n",
    "\n",
    "If our simulation had converged we would expect our reactor would have been a set of PFR tubes with a shell and tube heat exchanger around them and Dowtherm A as the coolant. If it had converged would would expect that the oxygen, ethylene and hydrochloric acid would decline slowly as the reaction got started, more rapidly as the reaction accelerated due to the temperature rising and then slowly as the reaction tapered off. The EDC and water would have risen in the exact oposite fashion, and the remaining chemicals would have seen negligible production.\n",
    "\n",
    "We expect the temperature would have risen slowly as the reaction started, then a sharp increase as the reaction accelerated, then dropped as the heat was removed by the coolant and the reaction tappered off.\n",
    "\n",
    "For the co-current model we expect the coolant would have looked much like the working fluid, but with a delay for the sudden rise.\n",
    "\n",
    "The pressure should have dropped because we are assuming an incompressible fluid, so as more moles of gas are produced they will need to move through the reactor faster causing the pressure to drop according to the Bernouli principle."
   ]
  }
 ],
 "metadata": {
  "kernelspec": {
   "display_name": "Julia 1.6.1",
   "language": "julia",
   "name": "julia-1.6"
  },
  "language_info": {
   "file_extension": ".jl",
   "mimetype": "application/julia",
   "name": "julia",
   "version": "1.6.1"
  }
 },
 "nbformat": 4,
 "nbformat_minor": 5
}
