{
 "cells": [
  {
   "cell_type": "code",
   "execution_count": 1,
   "id": "344d5ec8",
   "metadata": {},
   "outputs": [],
   "source": [
    "using Plots\n",
    "using JuMP\n",
    "using Ipopt"
   ]
  },
  {
   "cell_type": "code",
   "execution_count": 2,
   "id": "0d749bfb",
   "metadata": {},
   "outputs": [
    {
     "data": {
      "text/plain": [
       "geoMean (generic function with 1 method)"
      ]
     },
     "execution_count": 2,
     "metadata": {},
     "output_type": "execute_result"
    }
   ],
   "source": [
    "#geometric mean of relative volitilies, useful for shortcut column\n",
    "function geoMean(kLightKeyDist, kLightKeyBot, kHeavyKeyDist, kHeavyKeyBot)\n",
    "    return(sqrt(kLightKeyDist*kLightKeyBot)/(kHeavyKeyDist*kHeavyKeyBot))\n",
    "end"
   ]
  },
  {
   "cell_type": "code",
   "execution_count": 3,
   "id": "5a88d949",
   "metadata": {},
   "outputs": [
    {
     "data": {
      "text/plain": [
       "fenske (generic function with 1 method)"
      ]
     },
     "execution_count": 3,
     "metadata": {},
     "output_type": "execute_result"
    }
   ],
   "source": [
    "#Fenske equation used in step 3 of column sizing to get the \n",
    "function fenske(xLightKeyDist, kLightKeyDist, xHeavyKeyDist, kHeavyKeyDist, xLightKeyBot, kLightKeyBot,\n",
    "        xHeavyKeyBot, kHeavyKeyBot)\n",
    "    α_avg = geoMean(kLightKeyDist, kLightKeyBot, kHeavyKeyDist, kHeavyKeyBot)\n",
    "    n = log10(xLightKeyDist*xHeavyKeyBot/xLightKeyBot/xHeavyKeyDist) / log10(α_avg)\n",
    "    return(n) #return number of trays\n",
    "end"
   ]
  },
  {
   "cell_type": "code",
   "execution_count": null,
   "id": "d6a5b633",
   "metadata": {},
   "outputs": [],
   "source": [
    "#Underwood equation for finding theta\n",
    "function underwood(kDist, kBot, kHeavyKeyDist, kHeavyKeyBot, xFeed, qual)\n",
    "    l = length(kDist)\n",
    "    α = zeros(l)\n",
    "    for i = 1:l\n",
    "       α[i] = geoMean(kDist[i], kBot[i], kHeavyKeyDist, kHeavyKeyBot) \n",
    "    end\n",
    "    \n",
    "end"
   ]
  },
  {
   "cell_type": "code",
   "execution_count": 4,
   "id": "aba5dd66",
   "metadata": {},
   "outputs": [
    {
     "data": {
      "text/plain": [
       "kirkbride (generic function with 1 method)"
      ]
     },
     "execution_count": 4,
     "metadata": {},
     "output_type": "execute_result"
    }
   ],
   "source": [
    "#kirkbride function for finding optimal feed stage, uses ipopt solver\n",
    "function kirkbride(B,D,xHKFeed,xLKFeed,xLKBot,xHKDist, nTot)\n",
    "    t = ((B/D) * (xHKFeed/xLKFeed) * (xLKBot/xHKDist)^2)^0.206\n",
    "    model = Model(with_optimizer(Ipopt.Optimizer))\n",
    "    @variable(model, m)\n",
    "    @NLconstraint(model, 0.2 <= m <= nTot-0.2)\n",
    "    @NLobjective(model, Min, abs(m/(nTot-m) - t))\n",
    "    optimize!(model)\n",
    "    return(value(m), nTot-value(m))\n",
    "end"
   ]
  },
  {
   "cell_type": "markdown",
   "id": "2eb04fa6",
   "metadata": {},
   "source": [
    "### Part 1 \n",
    "We begin by defining the light and heavy keys. We elected to use the Kabadi-Danner eos because it is designed for water-hydrocarbon systems particularly with dilute solutions. The heavy key is given as 1,2 dichloroethane. The light key was found using HYSYS K values. The next greatest K value is for water this is the light key. We assumed a feed basis of 100 kmol/hr.\n"
   ]
  },
  {
   "cell_type": "markdown",
   "id": "4310c65f",
   "metadata": {},
   "source": [
    "![title](kValsFeed5b.png)"
   ]
  },
  {
   "cell_type": "code",
   "execution_count": 5,
   "id": "097db877",
   "metadata": {},
   "outputs": [
    {
     "name": "stdout",
     "output_type": "stream",
     "text": [
      "0.005159552277135864 x val of HK in distilate 0.0018919294428563409 x val of LK in bottoms"
     ]
    }
   ],
   "source": [
    "### define molar flows in feed, bottoms, and distillate by assuming splits given in problem statement\n",
    "### and letting all HNK go to distillate and all LNK to the bottoms\n",
    "feedBasis = 100\n",
    "xFeed = [0.1493,0.5083,0.0007,0.0096,0.3321]\n",
    "feedMolFlow = xFeed * feedBasis\n",
    "distMolFlow = zeros(5)\n",
    "botMolFlow = zeros(5)\n",
    "distMolFlow[1] = feedMolFlow[1]; distMolFlow[2] = feedMolFlow[2]*0.005; distMolFlow[4] = feedMolFlow[4]*0.9; \n",
    "distMolFlow[5] = feedMolFlow[5]\n",
    "botMolFlow[2] = feedMolFlow[2]*0.995; botMolFlow[3] = feedMolFlow[3]; botMolFlow[4] = feedMolFlow[4]*0.1;\n",
    "xDist = zeros(5)\n",
    "xBot = zeros(5)\n",
    "for i = 1:5\n",
    "    xDist[i] = distMolFlow[i]/sum(distMolFlow)\n",
    "    xBot[i] = botMolFlow[i]/sum(botMolFlow)\n",
    "end\n",
    "print(xDist[2], \" x val of HK in distilate \" , xBot[4], \" x val of LK in bottoms\")"
   ]
  },
  {
   "cell_type": "markdown",
   "id": "69da9c58",
   "metadata": {},
   "source": [
    "After using the above ratios in the performance data above and a pressure of 1100kPa in the bottoms(given) and 1090kPa in the distilate using the suggestion that for preliminary design we estimate 0.1 psi drop per tray with an estimated 10-15 trays, with a total condenser and partial reboiler. The minimum reflux ratio was then calculate to be 0.401. We multiplied by 1.27 which is in between 1.1 and 1.4 and got 0.51 which we used as the external reflux ratio, as seen below.\n",
    "![title](shortcut_col_design_param.png)"
   ]
  },
  {
   "cell_type": "markdown",
   "id": "e3a12754",
   "metadata": {},
   "source": [
    "We were then able to look at the performance tab to find the number of trays to use, 13, and the optimal feed stage 8. We were then ready to go with our full column simulation. We used the same feed stream composition, temperature and pressure and 13 stages. A once through regular HYSYS reboiler. 1100kPa for the reboiler, with a 10kPa drop through the reboiler, 1081 kPa for the condenser, with a 10kPa drop through the condenser, in accordance with the heuristic that a phase change in a heat exchanger should be done with a 10kPa drop. We used the condenser and reboiler temperature estimates from the shortcut column in the full column which were 68 and 183 degrees Celcius respectively. 0.51 for the reflux ratio and 2061 kgmol/hr in the distilate. We found that we were getting 96.7% recovery of the $12-ClC_2$ and so adjusted the distilate flow rate up to 2160 kgmol/hr. This resulted in a recovery rate of 95.1% and a purity in the bottoms stream of $12-ClC_2$ of 98.59%. The majority of the balance was water. If our customers will be satisfied with this purity then we should require no other seperations. If our customers need less water in their product we would suggest either a pressure swing column or with the purity already high a dehydrated salt could be used to scavenge the water. TRiiSO produces such chemicals specifically targeted at polyurthane production, and presumably our product will be used to produce PVC so this might be a good fit.\n",
    "https://www.tri-iso.com/polyurethane-moisture-scavengers.html\n",
    "\n",
    "The converged values for the design monitor and performance summary are shown below. Please see our flowsheet, included, to view all the column internals. \n",
    "![title](full_col_design_monitor.png)\n",
    "![title](full_col_performance_summary.png)"
   ]
  },
  {
   "cell_type": "markdown",
   "id": "65614a97",
   "metadata": {},
   "source": [
    "Now we can use the K values from the full column to continue with the Fenske equation "
   ]
  },
  {
   "cell_type": "code",
   "execution_count": 6,
   "id": "7c2c36eb",
   "metadata": {},
   "outputs": [
    {
     "data": {
      "text/plain": [
       "0.9501029253550254"
      ]
     },
     "execution_count": 6,
     "metadata": {},
     "output_type": "execute_result"
    }
   ],
   "source": [
    "(0.9859*2074)/(4234*0.5083)"
   ]
  },
  {
   "cell_type": "code",
   "execution_count": 12,
   "id": "ae8dc0f6",
   "metadata": {},
   "outputs": [
    {
     "name": "stdout",
     "output_type": "stream",
     "text": [
      "yesyesyesyesyes"
     ]
    }
   ],
   "source": [
    "xDist = zeros(5)\n",
    "size(xDist)\n",
    "for i = 1:length(xDist)\n",
    "   print(\"yes\") \n",
    "end"
   ]
  },
  {
   "cell_type": "code",
   "execution_count": null,
   "id": "db006546",
   "metadata": {},
   "outputs": [],
   "source": []
  }
 ],
 "metadata": {
  "kernelspec": {
   "display_name": "Julia 1.6.1",
   "language": "julia",
   "name": "julia-1.6"
  },
  "language_info": {
   "file_extension": ".jl",
   "mimetype": "application/julia",
   "name": "julia",
   "version": "1.6.1"
  }
 },
 "nbformat": 4,
 "nbformat_minor": 5
}
