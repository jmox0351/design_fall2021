{
 "cells": [
  {
   "cell_type": "code",
   "execution_count": 20,
   "id": "344d5ec8",
   "metadata": {},
   "outputs": [],
   "source": [
    "using Plots\n",
    "using JuMP\n",
    "using Ipopt"
   ]
  },
  {
   "cell_type": "code",
   "execution_count": 2,
   "id": "0d749bfb",
   "metadata": {},
   "outputs": [
    {
     "data": {
      "text/plain": [
       "geoMean (generic function with 1 method)"
      ]
     },
     "execution_count": 2,
     "metadata": {},
     "output_type": "execute_result"
    }
   ],
   "source": [
    "#geometric mean of relative volitilies, useful for shortcut column\n",
    "function geoMean(kLightKeyDist, kLightKeyBot, kHeavyKeyDist, kHeavyKeyBot)\n",
    "    return(sqrt(kLightKeyDist*kLightKeyBot)/(kHeavyKeyDist*kHeavyKeyBot))\n",
    "end"
   ]
  },
  {
   "cell_type": "code",
   "execution_count": 3,
   "id": "5a88d949",
   "metadata": {},
   "outputs": [
    {
     "data": {
      "text/plain": [
       "fenske (generic function with 1 method)"
      ]
     },
     "execution_count": 3,
     "metadata": {},
     "output_type": "execute_result"
    }
   ],
   "source": [
    "#Fenske equation used in step 3 of column sizing to get the \n",
    "function fenske(xLightKeyDist, kLightKeyDist, xHeavyKeyDist, kHeavyKeyDist, xLightKeyBot, kLightKeyBot,\n",
    "        xHeavyKeyBot, kHeavyKeyBot)\n",
    "    α_avg = geoMean(kLightKeyDist, kLightKeyBot, kHeavyKeyDist, kHeavyKeyBot)\n",
    "    n = log10(xLightKeyDist*xHeavyKeyBot/xLightKeyBot/xHeavyKeyDist) / log10(α_avg)\n",
    "    return(n) #return number of trays\n",
    "end"
   ]
  },
  {
   "cell_type": "code",
   "execution_count": 32,
   "id": "e51c9a32",
   "metadata": {},
   "outputs": [
    {
     "data": {
      "text/plain": [
       "underwood (generic function with 1 method)"
      ]
     },
     "execution_count": 32,
     "metadata": {},
     "output_type": "execute_result"
    }
   ],
   "source": [
    "#Underwood equation for finding theta\n",
    "function underwood(kDist, kBot, kHeavyKeyDist, kHeavyKeyBot, xFeed, qual, xDist)\n",
    "    l = length(kDist)\n",
    "    α = zeros(l)\n",
    "    for i = 1:l\n",
    "       α[i] = geoMean(kDist[i], kBot[i], kHeavyKeyDist, kHeavyKeyBot) \n",
    "    end\n",
    "    \n",
    "    num = sum(α .* xFeed)\n",
    "    model = Model(with_optimizer(Ipopt.Optimizer))\n",
    "    @variable(model, Θ)\n",
    "    @NLobjective(model, Min, abs(num/sum(α[i] - Θ for i in 1:length(α))) + qual -1)\n",
    "    optimize!(model)\n",
    "    \n",
    "    rmin = sum((α .* xDist) ./ (α .- value(Θ))) - 1\n",
    "    return(rmin)\n",
    "end"
   ]
  },
  {
   "cell_type": "code",
   "execution_count": 4,
   "id": "aba5dd66",
   "metadata": {},
   "outputs": [
    {
     "data": {
      "text/plain": [
       "kirkbride (generic function with 1 method)"
      ]
     },
     "execution_count": 4,
     "metadata": {},
     "output_type": "execute_result"
    }
   ],
   "source": [
    "#Kirkbride function for finding optimal feed stage, uses ipopt solver\n",
    "function kirkbride(B,D,xHKFeed,xLKFeed,xLKBot,xHKDist, nTot)\n",
    "    t = ((B/D) * (xHKFeed/xLKFeed) * (xLKBot/xHKDist)^2)^0.206\n",
    "    model = Model(with_optimizer(Ipopt.Optimizer))\n",
    "    @variable(model, m) # where m is number of stages above feed\n",
    "    @NLconstraint(model, 0.2 <= m <= nTot-0.2)\n",
    "    @NLobjective(model, Min, abs(m/(nTot-m) - t))\n",
    "    optimize!(model)\n",
    "    return(value(m), nTot-value(m)) #return number stages above, number of stages below\n",
    "end"
   ]
  },
  {
   "cell_type": "markdown",
   "id": "2eb04fa6",
   "metadata": {},
   "source": [
    "### Part 1 \n",
    "We begin by defining the light and heavy keys. We elected to use the Kabadi-Danner eos because it is designed for water-hydrocarbon systems particularly with dilute solutions. The heavy key is given as 1,2 dichloroethane. The light key was found using HYSYS K values. The next greatest K value is for water this is the light key. We assumed a feed basis of 100 kmol/hr.\n"
   ]
  },
  {
   "cell_type": "markdown",
   "id": "4310c65f",
   "metadata": {},
   "source": [
    "![title](kValsFeed5b.png)"
   ]
  },
  {
   "cell_type": "code",
   "execution_count": 5,
   "id": "097db877",
   "metadata": {},
   "outputs": [
    {
     "name": "stdout",
     "output_type": "stream",
     "text": [
      "0.005159552277135864 x val of HK in distilate 0.0018919294428563409 x val of LK in bottoms"
     ]
    }
   ],
   "source": [
    "### define molar flows in feed, bottoms, and distillate by assuming splits given in problem statement\n",
    "### and letting all HNK go to distillate and all LNK to the bottoms\n",
    "feedBasis = 100\n",
    "xFeed = [0.1493,0.5083,0.0007,0.0096,0.3321]\n",
    "feedMolFlow = xFeed * feedBasis\n",
    "distMolFlow = zeros(5)\n",
    "botMolFlow = zeros(5)\n",
    "distMolFlow[1] = feedMolFlow[1]; distMolFlow[2] = feedMolFlow[2]*0.005; distMolFlow[4] = feedMolFlow[4]*0.9; \n",
    "distMolFlow[5] = feedMolFlow[5]\n",
    "botMolFlow[2] = feedMolFlow[2]*0.995; botMolFlow[3] = feedMolFlow[3]; botMolFlow[4] = feedMolFlow[4]*0.1;\n",
    "xDist = zeros(5)\n",
    "xBot = zeros(5)\n",
    "for i = 1:5\n",
    "    xDist[i] = distMolFlow[i]/sum(distMolFlow)\n",
    "    xBot[i] = botMolFlow[i]/sum(botMolFlow)\n",
    "end\n",
    "print(xDist[2], \" x val of HK in distilate \" , xBot[4], \" x val of LK in bottoms\")"
   ]
  },
  {
   "cell_type": "markdown",
   "id": "69da9c58",
   "metadata": {},
   "source": [
    "After using the above ratios in the performance data above and a pressure of 1100kPa in the bottoms(given) and 1090kPa in the distilate using the suggestion that for preliminary design we estimate 0.1 psi drop per tray with an estimated 10-15 trays, with a total condenser and partial reboiler. The minimum reflux ratio was then calculate to be 0.401. We multiplied by 1.27 which is in between 1.1 and 1.4 and got 0.51 which we used as the external reflux ratio, as seen below.\n",
    "![title](shortcut_col_design_param.png)"
   ]
  },
  {
   "cell_type": "markdown",
   "id": "e3a12754",
   "metadata": {},
   "source": [
    "We were then able to look at the performance tab to find the number of trays to use, 13, and the optimal feed stage 8. We were then ready to go with our full column simulation. We used the same feed stream composition, temperature and pressure and 13 stages. A once through regular HYSYS reboiler. 1100kPa for the reboiler, with a 10kPa drop through the reboiler, 1081 kPa for the condenser, with a 10kPa drop through the condenser, in accordance with the heuristic that a phase change in a heat exchanger should be done with a 10kPa drop. We used the condenser and reboiler temperature estimates from the shortcut column in the full column which were 68 and 183 degrees Celcius respectively. 0.51 for the reflux ratio and 2061 kgmol/hr in the distilate. We found that we were getting 96.7% recovery of the $12-ClC_2$ and so adjusted the distilate flow rate up to 2160 kgmol/hr. This resulted in a recovery rate of 95.1% and a purity in the bottoms stream of $12-ClC_2$ of 98.59%. The majority of the balance was water. If our customers will be satisfied with this purity then we should require no other seperations. If our customers need less water in their product we would suggest either a pressure swing column or with the purity already high a dehydrated salt could be used to scavenge the water. TRiiSO produces such chemicals specifically targeted at polyurthane production, and presumably our product will be used to produce PVC so this might be a good fit.\n",
    "https://www.tri-iso.com/polyurethane-moisture-scavengers.html\n",
    "\n",
    "The converged values for the design monitor and performance summary are shown below. Please see our flowsheet, included, to view all the column internals. \n",
    "![title](full_col_design_monitor.png)\n",
    "![title](full_col_performance_summary.png)"
   ]
  },
  {
   "cell_type": "markdown",
   "id": "7d5d1a9a",
   "metadata": {},
   "source": [
    "Now we can use the K values from the full column to continue with the Fenske equation "
   ]
  },
  {
   "cell_type": "code",
   "execution_count": 6,
   "id": "7c2c36eb",
   "metadata": {},
   "outputs": [
    {
     "data": {
      "text/plain": [
       "0.9501029253550254"
      ]
     },
     "execution_count": 6,
     "metadata": {},
     "output_type": "execute_result"
    }
   ],
   "source": [
    "(0.9859*2074)/(4234*0.5083)"
   ]
  },
  {
   "cell_type": "code",
   "execution_count": 18,
   "id": "91056d37",
   "metadata": {},
   "outputs": [
    {
     "data": {
      "text/plain": [
       "11.899999999999999"
      ]
     },
     "execution_count": 18,
     "metadata": {},
     "output_type": "execute_result"
    }
   ],
   "source": [
    "α = [2.3, 4.2, 1.2, 8.2, 1.0]\n",
    "sum(α)\n",
    "sum(α .- 1)"
   ]
  },
  {
   "cell_type": "code",
   "execution_count": 23,
   "id": "871c664b",
   "metadata": {},
   "outputs": [
    {
     "name": "stdout",
     "output_type": "stream",
     "text": [
      "\n",
      "******************************************************************************\n",
      "This program contains Ipopt, a library for large-scale nonlinear optimization.\n",
      " Ipopt is released as open source code under the Eclipse Public License (EPL).\n",
      "         For more information visit https://github.com/coin-or/Ipopt\n",
      "******************************************************************************\n",
      "\n",
      "This is Ipopt version 3.13.4, running with linear solver mumps.\n",
      "NOTE: Other linear solvers might be more efficient (see Ipopt documentation).\n",
      "\n",
      "Number of nonzeros in equality constraint Jacobian...:        0\n",
      "Number of nonzeros in inequality constraint Jacobian.:        0\n",
      "Number of nonzeros in Lagrangian Hessian.............:        1\n",
      "\n",
      "Total number of variables............................:        1\n",
      "                     variables with only lower bounds:        0\n",
      "                variables with lower and upper bounds:        0\n",
      "                     variables with only upper bounds:        0\n",
      "Total number of equality constraints.................:        0\n",
      "Total number of inequality constraints...............:        0\n",
      "        inequality constraints with only lower bounds:        0\n",
      "   inequality constraints with lower and upper bounds:        0\n",
      "        inequality constraints with only upper bounds:        0\n",
      "\n",
      "iter    objective    inf_pr   inf_du lg(mu)  ||d||  lg(rg) alpha_du alpha_pr  ls\n",
      "   0 -5.2603550e-02 0.00e+00 4.66e-02  -1.0 0.00e+00    -  0.00e+00 0.00e+00   0\n",
      "   1 -1.0506903e-01 0.00e+00 2.07e-02  -2.5 1.69e+00    -  1.00e+00 1.00e+00f  1\n",
      "   2 -1.4004602e-01 0.00e+00 9.20e-03  -3.8 2.53e+00    -  1.00e+00 1.00e+00f  1\n",
      "   3 -1.6336401e-01 0.00e+00 4.09e-03  -3.8 3.80e+00    -  1.00e+00 1.00e+00f  1\n",
      "   4 -1.7890934e-01 0.00e+00 1.82e-03  -3.8 5.70e+00    -  1.00e+00 1.00e+00f  1\n",
      "   5 -1.8927290e-01 0.00e+00 8.08e-04  -3.8 8.56e+00    -  1.00e+00 1.00e+00f  1\n",
      "   6 -1.9618193e-01 0.00e+00 3.59e-04  -5.7 1.28e+01    -  1.00e+00 1.00e+00f  1\n",
      "   7 -2.0078795e-01 0.00e+00 1.60e-04  -5.7 1.93e+01    -  1.00e+00 1.00e+00f  1\n",
      "   8 -2.0385864e-01 0.00e+00 7.09e-05  -5.7 2.89e+01    -  1.00e+00 1.00e+00f  1\n",
      "   9 -2.0590576e-01 0.00e+00 3.15e-05  -5.7 4.33e+01    -  1.00e+00 1.00e+00f  1\n",
      "iter    objective    inf_pr   inf_du lg(mu)  ||d||  lg(rg) alpha_du alpha_pr  ls\n",
      "  10 -2.0727050e-01 0.00e+00 1.40e-05  -5.7 6.50e+01    -  1.00e+00 1.00e+00f  1\n",
      "  11 -2.0818034e-01 0.00e+00 6.22e-06  -8.6 9.75e+01    -  1.00e+00 1.00e+00f  1\n",
      "  12 -2.0878689e-01 0.00e+00 2.77e-06  -8.6 1.46e+02    -  1.00e+00 1.00e+00f  1\n",
      "  13 -2.0919126e-01 0.00e+00 1.23e-06  -8.6 2.19e+02    -  1.00e+00 1.00e+00f  1\n",
      "  14 -2.0946084e-01 0.00e+00 5.46e-07  -8.6 3.29e+02    -  1.00e+00 1.00e+00f  1\n",
      "  15 -2.0964056e-01 0.00e+00 2.43e-07  -8.6 4.93e+02    -  1.00e+00 1.00e+00f  1\n",
      "  16 -2.0976037e-01 0.00e+00 1.08e-07  -8.6 7.40e+02    -  1.00e+00 1.00e+00f  1\n",
      "  17 -2.0984025e-01 0.00e+00 4.80e-08  -8.6 1.11e+03    -  1.00e+00 1.00e+00f  1\n",
      "  18 -2.0989350e-01 0.00e+00 2.13e-08  -8.6 1.67e+03    -  1.00e+00 1.00e+00f  1\n",
      "  19 -2.0992900e-01 0.00e+00 9.48e-09  -9.0 2.50e+03    -  1.00e+00 1.00e+00f  1\n",
      "\n",
      "Number of Iterations....: 19\n",
      "\n",
      "                                   (scaled)                 (unscaled)\n",
      "Objective...............:  -2.0992899956492961e-01   -2.0992899956492961e-01\n",
      "Dual infeasibility......:   9.4756800379262829e-09    9.4756800379262829e-09\n",
      "Constraint violation....:   0.0000000000000000e+00    0.0000000000000000e+00\n",
      "Complementarity.........:   0.0000000000000000e+00    0.0000000000000000e+00\n",
      "Overall NLP error.......:   9.4756800379262829e-09    9.4756800379262829e-09\n",
      "\n",
      "\n",
      "Number of objective function evaluations             = 20\n",
      "Number of objective gradient evaluations             = 20\n",
      "Number of equality constraint evaluations            = 0\n",
      "Number of inequality constraint evaluations          = 0\n",
      "Number of equality constraint Jacobian evaluations   = 0\n",
      "Number of inequality constraint Jacobian evaluations = 0\n",
      "Number of Lagrangian Hessian evaluations             = 19\n",
      "Total CPU secs in IPOPT (w/o function evaluations)   =      0.638\n",
      "Total CPU secs in NLP function evaluations           =      0.360\n",
      "\n",
      "EXIT: Optimal Solution Found.\n"
     ]
    }
   ],
   "source": [
    "α = [2.3, 4.2, 1.2, 8.2, 1.0]\n",
    "xi = [0.2, 0.3, 0.4, 0.05, 0.05]\n",
    "q = 0.79\n",
    "num = 0\n",
    "for i = 1:5\n",
    "    num += α[i]*xi[i] \n",
    "end\n",
    "model = Model(with_optimizer(Ipopt.Optimizer))\n",
    "@variable(model, Θ)\n",
    "@NLobjective(model, Min, abs(num/sum(α[i] - Θ for i in 1:length(α))) + q -1)\n",
    "optimize!(model)"
   ]
  },
  {
   "cell_type": "code",
   "execution_count": 28,
   "id": "39aa7b30",
   "metadata": {},
   "outputs": [
    {
     "data": {
      "text/plain": [
       "7.283333333333333"
      ]
     },
     "execution_count": 28,
     "metadata": {},
     "output_type": "execute_result"
    }
   ],
   "source": [
    "a = [1.0,2.0,3.0,4.0]\n",
    "b = [1.0,2.0,3.0,4.0]\n",
    "sum((a .* b) ./ (a .+ 1.0))"
   ]
  },
  {
   "cell_type": "code",
   "execution_count": 31,
   "id": "8b3ba11c",
   "metadata": {},
   "outputs": [
    {
     "data": {
      "text/plain": [
       "30.0"
      ]
     },
     "execution_count": 31,
     "metadata": {},
     "output_type": "execute_result"
    }
   ],
   "source": [
    "c = [1.0/2.0, 4.0/3.0, 9.0/4.0, 16.0/5.0]\n",
    "sum(a .* b)"
   ]
  },
  {
   "cell_type": "code",
   "execution_count": null,
   "id": "a7e182f8",
   "metadata": {},
   "outputs": [],
   "source": []
  }
 ],
 "metadata": {
  "kernelspec": {
   "display_name": "Julia 1.6.1",
   "language": "julia",
   "name": "julia-1.6"
  },
  "language_info": {
   "file_extension": ".jl",
   "mimetype": "application/julia",
   "name": "julia",
   "version": "1.6.1"
  }
 },
 "nbformat": 4,
 "nbformat_minor": 5
}
