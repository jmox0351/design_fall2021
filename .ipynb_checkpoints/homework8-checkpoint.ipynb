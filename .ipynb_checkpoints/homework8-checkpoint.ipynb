{
 "cells": [
  {
   "cell_type": "code",
   "execution_count": 1,
   "id": "daab0d73",
   "metadata": {},
   "outputs": [],
   "source": [
    "using Plots\n",
    "using DifferentialEquations"
   ]
  },
  {
   "cell_type": "code",
   "execution_count": null,
   "id": "17e4d777",
   "metadata": {},
   "outputs": [],
   "source": [
    "#physical constants for rate expressions\n",
    "const a1 = 10^4.2\n",
    "const ea1 = 4.01e4\n",
    "const a2 = 10^13.23\n",
    "const ea2 = 1.2804e5\n",
    "const a3 = 10^6.78\n",
    "const ea3 = 1.12e5"
   ]
  },
  {
   "cell_type": "code",
   "execution_count": 4,
   "id": "8d175814",
   "metadata": {},
   "outputs": [
    {
     "data": {
      "text/plain": [
       "k4b (generic function with 1 method)"
      ]
     },
     "execution_count": 4,
     "metadata": {},
     "output_type": "execute_result"
    }
   ],
   "source": [
    "arr(ao, ea, T) = ao*exp(-ea/8.314/T) #need to be in units of J/mol and K\n",
    "k4f(T) = 1000*exp(17.13-13000/(1.987*T))\n",
    "k4b(T)  = exp(5.4+16000/(1.987*T))"
   ]
  },
  {
   "cell_type": "markdown",
   "id": "832e65f2",
   "metadata": {},
   "source": [
    "We begin with the equations for the rates:\n",
    "$$\\frac{\\partial O_2}{\\partial t} = -\\frac{1}{2}r_1 - \\frac{1}{2}r_2 - 3r_3 - r_{4f} + r_{4r}$$\n",
    "$$\\frac{\\partial Et}{\\partial t} = -r_1-r_3$$\n",
    "$$\\frac{\\partial HCl}{\\partial t} = -2r_1 - r_2 - 4r_{4f} + 4r_{4r}$$\n",
    "$$\\frac{\\partial EtCl_2}{\\partial t} = r_1 - r_2$$\n",
    "$$\\frac{\\partial H_2O}{\\partial t} = r_1 + r_2 + 2r_3 + 2r_{4f} - 2r_{4r}$$\n",
    "$$\\frac{\\partial EtCl_3}{\\partial t} = r_2$$\n",
    "$$\\frac{\\partial CO_2}{\\partial t} = 2r_3$$\n",
    "$$\\frac{\\partial Cl_2}{\\partial t} = 2r_{4f} - 2r_{4r}$$\n",
    "\n",
    "Then we get the rate equations from Lakshmanan:\n",
    "$$r_1 = k_1p_{Et}p_{Cl_2}^{0.5}$$\n",
    "$$r_2 = k_2p_{EtCl_2}p_{Cl_2}^{0.5}$$\n",
    "$$r_3 = k_3p_{0_2}p_{Cl_2}^{0.5}p_{Et}$$\n",
    "$$r_4 = K_4p_{O_2}p_{Cl_2}^{-1} \\; K_4 = \\frac{1000*exp(17.13-13000/(1.987*T))}{exp(5.4+16000/(1.987*T))}$$\n",
    "Using the work of Falconer and Brown we can restate the 8 equations above in the terms: $\\frac{\\partial F_i}{\\partial V}$\n",
    "\n"
   ]
  },
  {
   "cell_type": "markdown",
   "id": "d4bc1751",
   "metadata": {},
   "source": [
    "$$\\frac{\\partial F_{O_2}}{\\partial V} = -\\frac{1}{2} k_1 (\\frac{P}{F_{tot}RT})^{3/2}F_{Et}F_{Cl_2}^{0.5} - \\frac{1}{2} k_2 (\\frac{P}{F_{tot}RT})^{3/2}F_{Et}F_{Cl_2}^{0.5} - 3k_3 (\\frac{P}{F_{tot}RT})^{2.5} F_{O_2}F_{Cl_2}^{0.5}F_{Et} - \\frac{1}{2}k_{4f}F_{O_2}F_{Cl_2}^{-1} + \\frac{1}{2}k_{4b}F_{O_2}F_{Cl_2}^{-1}$$\n",
    "$$\\frac{\\partial F_{Et}}{\\partial V} = -k_1 (\\frac{P}{F_{tot}RT})^{3/2}F_{Et}F_{Cl_2}^{0.5} - k_3 (\\frac{P}{F_{tot}RT})^{2.5} F_{O_2}F_{Cl_2}^{0.5}F_{Et}$$\n",
    "$$\\frac{\\partial F_{HCl}}{\\partial V} = -2k_1 (\\frac{P}{F_{tot}RT})^{3/2}F_{Et}F_{Cl_2}^{0.5} - k_2 (\\frac{P}{F_{tot}RT})^{3/2}F_{Et}F_{Cl_2}^{0.5} - 2k_{4f}F_{O_2}F_{Cl_2}^{-1} + 2k_{4b}F_{O_2}F_{Cl_2}^{-1}$$\n",
    "$$\\frac{\\partial F_{EtCl_2}}{\\partial V} = (\\frac{P}{F_{tot}RT})^{3/2}F_{Et}F_{Cl_2}^{0.5} - k_2 (\\frac{P}{F_{tot}RT})^{3/2}F_{Et}F_{Cl_2}^{0.5}$$\n",
    "$$\\frac{\\partial F_{H_2O}}{\\partial V} = k_1 (\\frac{P}{F_{tot}RT})^{3/2}F_{Et}F_{Cl_2}^{0.5} + k_2 (\\frac{P}{F_{tot}RT})^{3/2}F_{Et}F_{Cl_2}^{0.5} + 2k_3 (\\frac{P}{F_{tot}RT})^{2.5} F_{O_2}F_{Cl_2}^{0.5}F_{Et} + 2k_{4f}F_{O_2}F_{Cl_2}^{-1} - 2k_{4b}F_{O_2}F_{Cl_2}^{-1}$$\n",
    "$$\\frac{\\partial F_{EtCl_3}}{\\partial V} = k_2 (\\frac{P}{F_{tot}RT})^{3/2}F_{Et}F_{Cl_2}^{0.5}$$\n",
    "$$\\frac{\\partial F_{CO_2}}{\\partial V} = 2k_3 (\\frac{P}{F_{tot}RT})^{2.5} F_{O_2}F_{Cl_2}^{0.5}F_{Et}$$\n",
    "$$\\frac{\\partial F_{Cl_2}}{\\partial V} = k_{4f}F_{O_2}F_{Cl_2}^{-1} + k_{4b}F_{O_2}F_{Cl_2}^{-1}$$"
   ]
  },
  {
   "cell_type": "code",
   "execution_count": null,
   "id": "9aad0879",
   "metadata": {},
   "outputs": [],
   "source": []
  }
 ],
 "metadata": {
  "kernelspec": {
   "display_name": "Julia 1.6.1",
   "language": "julia",
   "name": "julia-1.6"
  },
  "language_info": {
   "file_extension": ".jl",
   "mimetype": "application/julia",
   "name": "julia",
   "version": "1.6.1"
  }
 },
 "nbformat": 4,
 "nbformat_minor": 5
}
