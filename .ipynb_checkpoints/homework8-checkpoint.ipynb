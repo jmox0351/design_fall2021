{
 "cells": [
  {
   "cell_type": "code",
   "execution_count": 1,
   "id": "daab0d73",
   "metadata": {},
   "outputs": [],
   "source": [
    "using Plots\n",
    "using DifferentialEquations"
   ]
  },
  {
   "cell_type": "code",
   "execution_count": 2,
   "id": "8d175814",
   "metadata": {},
   "outputs": [
    {
     "data": {
      "text/plain": [
       "arr (generic function with 1 method)"
      ]
     },
     "execution_count": 2,
     "metadata": {},
     "output_type": "execute_result"
    }
   ],
   "source": [
    "arr(ao, ea, T) = ao*exp(ea/8.314/T) #need to be in units of J/mol and K"
   ]
  },
  {
   "cell_type": "markdown",
   "id": "832e65f2",
   "metadata": {},
   "source": [
    "We begin with the equations for the rates:\n",
    "$$\\frac{\\partial O_2}{\\partial t} = -\\frac{1}{2}r_1 - \\frac{1}{2}r_2 - 3r_3 - r_{4f} + r_{4r}$$\n",
    "$$\\frac{\\partial Et}{\\partial t} = -r_1-r_3$$\n",
    "$$\\frac{\\partial HCl}{\\partial t} = -2r_1 - r_2 - 4r_{4f} + 4r_{4r}$$\n",
    "$$\\frac{\\partial EtCl_2}{\\partial t} = r_1 - r_2$$\n",
    "$$\\frac{\\partial H_2O}{\\partial t} = r_1 + r_2 + 2r_3 + 2r_{4f} - 2r_{4r}$$\n",
    "$$\\frac{\\partial ECl_3}{\\partial t} = r_2$$\n",
    "$$\\frac{\\partial CO_2}{\\partial t} = 2r_3$$\n",
    "$$\\frac{\\partial Cl_2}{\\partial t} = 2r_{4f} - 2r_{4r}$$"
   ]
  },
  {
   "cell_type": "code",
   "execution_count": null,
   "id": "7cb460c1",
   "metadata": {},
   "outputs": [],
   "source": []
  }
 ],
 "metadata": {
  "kernelspec": {
   "display_name": "Julia 1.6.1",
   "language": "julia",
   "name": "julia-1.6"
  },
  "language_info": {
   "file_extension": ".jl",
   "mimetype": "application/julia",
   "name": "julia",
   "version": "1.6.1"
  }
 },
 "nbformat": 4,
 "nbformat_minor": 5
}
