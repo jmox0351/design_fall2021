{
 "cells": [
  {
   "cell_type": "code",
   "execution_count": 36,
   "id": "daab0d73",
   "metadata": {},
   "outputs": [],
   "source": [
    "using Plots\n",
    "using LinearAlgebra\n",
    "using Statistics\n",
    "using DifferentialEquations"
   ]
  },
  {
   "cell_type": "code",
   "execution_count": null,
   "id": "5e419d70",
   "metadata": {},
   "outputs": [],
   "source": [
    "#physical constants for rate expressions\n",
    "const a1 = 10^4.2\n",
    "const ea1 = 4.01e4\n",
    "const a2 = 10^13.23\n",
    "const ea2 = 1.2804e5\n",
    "const a3 = 10^6.78\n",
    "const ea3 = 1.12e5\n",
    "const R = 8.314\n",
    "const gc = 1.0\n",
    "const ϕ = 0.5\n",
    "const μ = 0.025\n",
    "const ρc = 3950"
   ]
  },
  {
   "cell_type": "code",
   "execution_count": 40,
   "id": "8d175814",
   "metadata": {},
   "outputs": [
    {
     "data": {
      "text/plain": [
       "k4b (generic function with 1 method)"
      ]
     },
     "execution_count": 40,
     "metadata": {},
     "output_type": "execute_result"
    }
   ],
   "source": [
    "arr(ao, ea, T) = ao*exp(-ea/8.314/T) \n",
    "k4f(T) = 1000*exp(17.13-13000/(1.987*T))\n",
    "k4b(T)  = exp(5.4+16000/(1.987*T))"
   ]
  },
  {
   "cell_type": "markdown",
   "id": "832e65f2",
   "metadata": {},
   "source": [
    "We begin with the equations for the rates:\n",
    "$$\\frac{\\partial O_2}{\\partial t} = -\\frac{1}{2}r_1 - \\frac{1}{2}r_2 - 3r_3 - r_{4f} + r_{4r}$$\n",
    "$$\\frac{\\partial Et}{\\partial t} = -r_1-r_3$$\n",
    "$$\\frac{\\partial HCl}{\\partial t} = -2r_1 - r_2 - 4r_{4f} + 4r_{4r}$$\n",
    "$$\\frac{\\partial EtCl_2}{\\partial t} = r_1 - r_2$$\n",
    "$$\\frac{\\partial H_2O}{\\partial t} = r_1 + r_2 + 2r_3 + 2r_{4f} - 2r_{4r}$$\n",
    "$$\\frac{\\partial EtCl_3}{\\partial t} = r_2$$\n",
    "$$\\frac{\\partial CO_2}{\\partial t} = 2r_3$$\n",
    "$$\\frac{\\partial Cl_2}{\\partial t} = 2r_{4f} - 2r_{4r}$$\n",
    "\n",
    "Then we get the rate equations from Lakshmanan:\n",
    "$$r_1 = k_1p_{Et}p_{Cl_2}^{0.5}$$\n",
    "$$r_2 = k_2p_{EtCl_2}p_{Cl_2}^{0.5}$$\n",
    "$$r_3 = k_3p_{0_2}p_{Cl_2}^{0.5}p_{Et}$$\n",
    "$$r_4 = K_4p_{O_2}p_{Cl_2}^{-1} \\; K_4 = \\frac{1000*exp(17.13-13000/(1.987*T))}{exp(5.4+16000/(1.987*T))}$$\n",
    "Using the work of Falconer and Brown we can restate the 8 equations above in the terms: $\\frac{\\partial F_i}{\\partial V}$\n",
    "\n"
   ]
  },
  {
   "cell_type": "markdown",
   "id": "cd3c329a",
   "metadata": {},
   "source": [
    "$$\\frac{\\partial F_{O_2}}{\\partial V} = -\\frac{1}{2} k_1 (\\frac{P}{F_{tot}RT})^{3/2}F_{Et}F_{Cl_2}^{0.5} - \\frac{1}{2} k_2 (\\frac{P}{F_{tot}RT})^{3/2}F_{Et}F_{Cl_2}^{0.5} - 3k_3 (\\frac{P}{F_{tot}RT})^{2.5} F_{O_2}F_{Cl_2}^{0.5}F_{Et} - \\frac{1}{2}k_{4f}F_{O_2}F_{Cl_2}^{-1} + \\frac{1}{2}k_{4b}F_{O_2}F_{Cl_2}^{-1}$$\n",
    "$$\\frac{\\partial F_{Et}}{\\partial V} = -k_1 (\\frac{P}{F_{tot}RT})^{3/2}F_{Et}F_{Cl_2}^{0.5} - k_3 (\\frac{P}{F_{tot}RT})^{2.5} F_{O_2}F_{Cl_2}^{0.5}F_{Et}$$\n",
    "$$\\frac{\\partial F_{HCl}}{\\partial V} = -2k_1 (\\frac{P}{F_{tot}RT})^{3/2}F_{Et}F_{Cl_2}^{0.5} - k_2 (\\frac{P}{F_{tot}RT})^{3/2}F_{Et}F_{Cl_2}^{0.5} - 2k_{4f}F_{O_2}F_{Cl_2}^{-1} + 2k_{4b}F_{O_2}F_{Cl_2}^{-1}$$\n",
    "$$\\frac{\\partial F_{EtCl_2}}{\\partial V} = k_1(\\frac{P}{F_{tot}RT})^{3/2}F_{Et}F_{Cl_2}^{0.5} - k_2 (\\frac{P}{F_{tot}RT})^{3/2}F_{Et}F_{Cl_2}^{0.5}$$\n",
    "$$\\frac{\\partial F_{H_2O}}{\\partial V} = k_1 (\\frac{P}{F_{tot}RT})^{3/2}F_{Et}F_{Cl_2}^{0.5} + k_2 (\\frac{P}{F_{tot}RT})^{3/2}F_{Et}F_{Cl_2}^{0.5} + 2k_3 (\\frac{P}{F_{tot}RT})^{2.5} F_{O_2}F_{Cl_2}^{0.5}F_{Et} + 2k_{4f}F_{O_2}F_{Cl_2}^{-1} - 2k_{4b}F_{O_2}F_{Cl_2}^{-1}$$\n",
    "$$\\frac{\\partial F_{EtCl_3}}{\\partial V} = k_2 (\\frac{P}{F_{tot}RT})^{3/2}F_{Et}F_{Cl_2}^{0.5}$$\n",
    "$$\\frac{\\partial F_{CO_2}}{\\partial V} = 2k_3 (\\frac{P}{F_{tot}RT})^{2.5} F_{O_2}F_{Cl_2}^{0.5}F_{Et}$$\n",
    "$$\\frac{\\partial F_{Cl_2}}{\\partial V} = k_{4f}F_{O_2}F_{Cl_2}^{-1} + k_{4b}F_{O_2}F_{Cl_2}^{-1}$$"
   ]
  },
  {
   "cell_type": "markdown",
   "id": "01a1763b",
   "metadata": {},
   "source": [
    "Now we can use Falconer and Brown's example of how to solve for $\\frac{dT}{dV}$ for the working fluid and then use $m_{in} c_{p, in} \\Delta T_{in} = m_{out}c_{p,out}\\Delta T_{out}$ to solve for the temperature of the coolant\n",
    "\n",
    "Finally we use the Ergun equation to solve for:\n",
    "$$\\frac{\\partial P}{\\partial V} = \\frac{\\partial P}{\\partial W} \\cdot \\frac{\\partial W}{\\partial V}$$\n",
    "$$\\frac{\\partial W}{\\partial V} = \\rho_{cat}(1-\\phi)$$\n"
   ]
  },
  {
   "cell_type": "code",
   "execution_count": 39,
   "id": "103cbc25",
   "metadata": {},
   "outputs": [
    {
     "data": {
      "text/plain": [
       "vinylCh (generic function with 1 method)"
      ]
     },
     "execution_count": 39,
     "metadata": {},
     "output_type": "execute_result"
    }
   ],
   "source": [
    "#our order of u will be 8 materials kgmol/hr, working fluid temp K, coolant temp K, pressure kPa \n",
    "#parameters will be vector of cps in kJ/kgmol-K, vector of DeltaH's in kJ/kgmol, tube diameter, number tubes,\n",
    "#Mw vector, Po, To, Fto\n",
    "function vinylCh(du,u,p,t) \n",
    "    const a1 = 10^4.2\n",
    "    const ea1 = 4.01e4\n",
    "    const a2 = 10^13.23\n",
    "    const ea2 = 1.2804e5\n",
    "    const a3 = 10^6.78\n",
    "    const ea3 = 1.12e5\n",
    "    const R = 8.314\n",
    "    const gc = 1.0\n",
    "    const ϕ = 0.5\n",
    "    const μ = 0.025\n",
    "    const ρc = 3950\n",
    "    \n",
    "    fTot = sum(u[1:8])\n",
    "    α = u[11]/(fTot*R*u[9]) #using to avoid recomputing this \n",
    "    β = u[2]*sqrt(u[8]) #This gets used for reactions 1 and 2\n",
    "    γ = u[1]*sqrt(u[8])*u[2] #reaction 3\n",
    "    δ = u[1]/u[8] #reaction 4\n",
    "    k1 = arr(a1, ea1, u[9])\n",
    "    k2 = arr(a2, ea2, u[9])\n",
    "    k3 = arr(a3, ea3, u[9])\n",
    "    k4f = k4f(u[9])\n",
    "    k4b = k4b(u[9])\n",
    "    fCpTot = sum(u[1:8] .* p[1])\n",
    "    hRxn = k1*u[2]*-p[2,1]+k2*u[4]*-p[2,2]+k3*u[2]*-p[2,3]+k4f*u[1]*-p[2,4]+k4b*u[1]*p[2,5]\n",
    "    Ac = (p[3]/4)^2*pi*p[4]\n",
    "    G = sum(u[1:8] ./ p[5])/Ac\n",
    "    bet = G*(1-ϕ)/(α*mean(p[50])*1000*gc*1/8*p[3]*ϕ^3) * ((150*(1-ϕ)*μ)/(1/8*p[3])+1.75*G)\n",
    "    alp = 2*bet/(Ac*ρc*(1-ϕ)*p[6])\n",
    "    \n",
    "    \n",
    "    du[1] = -0.5*k1*α^1.5*β - -0.5*k2*α^1.5*β - 3*k3*α^2.5*γ - 0.5*kf4*γ + 0.5*k4b*γ\n",
    "    du[2] = -k1*α^1.5*β - k3*α^2.5*γ\n",
    "    du[3] = -2*k1*α^1.5*β - k2*α^1.5*β - 2*k4f*δ + 2*k4b*δ\n",
    "    du[4] = k1*α^1.5*β - k2*α^1.5*β\n",
    "    du[5] = k1*α^1.5*β + k2*α^1.5*β +2*k3*α^2.5*γ* + 2*k4f*δ - 2*kfb*δ\n",
    "    du[6] = k2*α^1.5*β\n",
    "    du[7] = 2*α^2.5*γ\n",
    "    du[8] = k4f*δ - k4b*δ\n",
    "    du[9] = hRxn/fCpTot - 4*300*(u[9]-u[10])/p[3]\n",
    "    du[10] = fCpTot*du[9]/(875.88*10) #using 10kgmol/hr of dowtherm A \n",
    "    du[11] = -alp/2 * u[9]/p[7] * p[6]^2/u[11] * sum(u[1:8])/p[8] * ρc*(1-ϕ)\n",
    "end"
   ]
  },
  {
   "cell_type": "code",
   "execution_count": 47,
   "id": "dda84f59",
   "metadata": {},
   "outputs": [
    {
     "ename": "LoadError",
     "evalue": "UndefVarError: R not defined",
     "output_type": "error",
     "traceback": [
      "UndefVarError: R not defined",
      "",
      "Stacktrace:",
      "  [1] vinylCh(du::Vector{Float64}, u::Vector{Float64}, p::Vector{Any}, t::Float64)",
      "    @ Main ./In[39]:6",
      "  [2] (::ODEFunction{true, typeof(vinylCh), UniformScaling{Bool}, Nothing, Nothing, Nothing, Nothing, Nothing, Nothing, Nothing, Nothing, Nothing, Nothing, Nothing, Nothing, typeof(SciMLBase.DEFAULT_OBSERVED), Nothing})(::Vector{Float64}, ::Vararg{Any, N} where N)",
      "    @ SciMLBase ~/.julia/packages/SciMLBase/DXiE6/src/scimlfunctions.jl:334",
      "  [3] initialize!(integrator::OrdinaryDiffEq.ODEIntegrator{CompositeAlgorithm{Tuple{Tsit5, Rosenbrock23{0, false, DefaultLinSolve, Val{:forward}}}, OrdinaryDiffEq.AutoSwitchCache{Tsit5, Rosenbrock23{0, false, DefaultLinSolve, Val{:forward}}, Rational{Int64}, Int64}}, true, Vector{Float64}, Nothing, Float64, Vector{Any}, Float64, Float64, Float64, Float64, Vector{Vector{Float64}}, OrdinaryDiffEq.ODECompositeSolution{Float64, 2, Vector{Vector{Float64}}, Nothing, Nothing, Vector{Float64}, Vector{Vector{Vector{Float64}}}, ODEProblem{Vector{Float64}, Tuple{Float64, Float64}, true, Vector{Any}, ODEFunction{true, typeof(vinylCh), UniformScaling{Bool}, Nothing, Nothing, Nothing, Nothing, Nothing, Nothing, Nothing, Nothing, Nothing, Nothing, Nothing, Nothing, typeof(SciMLBase.DEFAULT_OBSERVED), Nothing}, Base.Iterators.Pairs{Union{}, Union{}, Tuple{}, NamedTuple{(), Tuple{}}}, SciMLBase.StandardODEProblem}, CompositeAlgorithm{Tuple{Tsit5, Rosenbrock23{0, false, DefaultLinSolve, Val{:forward}}}, OrdinaryDiffEq.AutoSwitchCache{Tsit5, Rosenbrock23{0, false, DefaultLinSolve, Val{:forward}}, Rational{Int64}, Int64}}, OrdinaryDiffEq.CompositeInterpolationData{ODEFunction{true, typeof(vinylCh), UniformScaling{Bool}, Nothing, Nothing, Nothing, Nothing, Nothing, Nothing, Nothing, Nothing, Nothing, Nothing, Nothing, Nothing, typeof(SciMLBase.DEFAULT_OBSERVED), Nothing}, Vector{Vector{Float64}}, Vector{Float64}, Vector{Vector{Vector{Float64}}}, OrdinaryDiffEq.CompositeCache{Tuple{OrdinaryDiffEq.Tsit5Cache{Vector{Float64}, Vector{Float64}, Vector{Float64}, OrdinaryDiffEq.Tsit5ConstantCache{Float64, Float64}}, OrdinaryDiffEq.Rosenbrock23Cache{Vector{Float64}, Vector{Float64}, Vector{Float64}, Matrix{Float64}, Matrix{Float64}, OrdinaryDiffEq.Rosenbrock23Tableau{Float64}, SciMLBase.TimeGradientWrapper{ODEFunction{true, typeof(vinylCh), UniformScaling{Bool}, Nothing, Nothing, Nothing, Nothing, Nothing, Nothing, Nothing, Nothing, Nothing, Nothing, Nothing, Nothing, typeof(SciMLBase.DEFAULT_OBSERVED), Nothing}, Vector{Float64}, Vector{Any}}, SciMLBase.UJacobianWrapper{ODEFunction{true, typeof(vinylCh), UniformScaling{Bool}, Nothing, Nothing, Nothing, Nothing, Nothing, Nothing, Nothing, Nothing, Nothing, Nothing, Nothing, Nothing, typeof(SciMLBase.DEFAULT_OBSERVED), Nothing}, Float64, Vector{Any}}, DefaultLinSolve, FiniteDiff.JacobianCache{Vector{Float64}, Vector{Float64}, Vector{Float64}, UnitRange{Int64}, Nothing, Val{:forward}(), Float64}, FiniteDiff.GradientCache{Nothing, Vector{Float64}, Vector{Float64}, Float64, Val{:forward}(), Float64, Val{true}()}}}, OrdinaryDiffEq.AutoSwitchCache{Tsit5, Rosenbrock23{0, false, DefaultLinSolve, Val{:forward}}, Rational{Int64}, Int64}}}, DiffEqBase.DEStats}, ODEFunction{true, typeof(vinylCh), UniformScaling{Bool}, Nothing, Nothing, Nothing, Nothing, Nothing, Nothing, Nothing, Nothing, Nothing, Nothing, Nothing, Nothing, typeof(SciMLBase.DEFAULT_OBSERVED), Nothing}, OrdinaryDiffEq.CompositeCache{Tuple{OrdinaryDiffEq.Tsit5Cache{Vector{Float64}, Vector{Float64}, Vector{Float64}, OrdinaryDiffEq.Tsit5ConstantCache{Float64, Float64}}, OrdinaryDiffEq.Rosenbrock23Cache{Vector{Float64}, Vector{Float64}, Vector{Float64}, Matrix{Float64}, Matrix{Float64}, OrdinaryDiffEq.Rosenbrock23Tableau{Float64}, SciMLBase.TimeGradientWrapper{ODEFunction{true, typeof(vinylCh), UniformScaling{Bool}, Nothing, Nothing, Nothing, Nothing, Nothing, Nothing, Nothing, Nothing, Nothing, Nothing, Nothing, Nothing, typeof(SciMLBase.DEFAULT_OBSERVED), Nothing}, Vector{Float64}, Vector{Any}}, SciMLBase.UJacobianWrapper{ODEFunction{true, typeof(vinylCh), UniformScaling{Bool}, Nothing, Nothing, Nothing, Nothing, Nothing, Nothing, Nothing, Nothing, Nothing, Nothing, Nothing, Nothing, typeof(SciMLBase.DEFAULT_OBSERVED), Nothing}, Float64, Vector{Any}}, DefaultLinSolve, FiniteDiff.JacobianCache{Vector{Float64}, Vector{Float64}, Vector{Float64}, UnitRange{Int64}, Nothing, Val{:forward}(), Float64}, FiniteDiff.GradientCache{Nothing, Vector{Float64}, Vector{Float64}, Float64, Val{:forward}(), Float64, Val{true}()}}}, OrdinaryDiffEq.AutoSwitchCache{Tsit5, Rosenbrock23{0, false, DefaultLinSolve, Val{:forward}}, Rational{Int64}, Int64}}, OrdinaryDiffEq.DEOptions{Float64, Float64, Float64, Float64, PIController{Rational{Int64}}, typeof(DiffEqBase.ODE_DEFAULT_NORM), typeof(opnorm), Nothing, CallbackSet{Tuple{}, Tuple{}}, typeof(DiffEqBase.ODE_DEFAULT_ISOUTOFDOMAIN), typeof(DiffEqBase.ODE_DEFAULT_PROG_MESSAGE), typeof(DiffEqBase.ODE_DEFAULT_UNSTABLE_CHECK), DataStructures.BinaryHeap{Float64, DataStructures.FasterForward}, DataStructures.BinaryHeap{Float64, DataStructures.FasterForward}, Nothing, Nothing, Int64, Tuple{}, Tuple{}, Tuple{}}, Vector{Float64}, Float64, Nothing, OrdinaryDiffEq.DefaultInit}, cache::OrdinaryDiffEq.Tsit5Cache{Vector{Float64}, Vector{Float64}, Vector{Float64}, OrdinaryDiffEq.Tsit5ConstantCache{Float64, Float64}})",
      "    @ OrdinaryDiffEq ~/.julia/packages/OrdinaryDiffEq/PIjOZ/src/perform_step/low_order_rk_perform_step.jl:623",
      "  [4] initialize!(integrator::OrdinaryDiffEq.ODEIntegrator{CompositeAlgorithm{Tuple{Tsit5, Rosenbrock23{0, false, DefaultLinSolve, Val{:forward}}}, OrdinaryDiffEq.AutoSwitchCache{Tsit5, Rosenbrock23{0, false, DefaultLinSolve, Val{:forward}}, Rational{Int64}, Int64}}, true, Vector{Float64}, Nothing, Float64, Vector{Any}, Float64, Float64, Float64, Float64, Vector{Vector{Float64}}, OrdinaryDiffEq.ODECompositeSolution{Float64, 2, Vector{Vector{Float64}}, Nothing, Nothing, Vector{Float64}, Vector{Vector{Vector{Float64}}}, ODEProblem{Vector{Float64}, Tuple{Float64, Float64}, true, Vector{Any}, ODEFunction{true, typeof(vinylCh), UniformScaling{Bool}, Nothing, Nothing, Nothing, Nothing, Nothing, Nothing, Nothing, Nothing, Nothing, Nothing, Nothing, Nothing, typeof(SciMLBase.DEFAULT_OBSERVED), Nothing}, Base.Iterators.Pairs{Union{}, Union{}, Tuple{}, NamedTuple{(), Tuple{}}}, SciMLBase.StandardODEProblem}, CompositeAlgorithm{Tuple{Tsit5, Rosenbrock23{0, false, DefaultLinSolve, Val{:forward}}}, OrdinaryDiffEq.AutoSwitchCache{Tsit5, Rosenbrock23{0, false, DefaultLinSolve, Val{:forward}}, Rational{Int64}, Int64}}, OrdinaryDiffEq.CompositeInterpolationData{ODEFunction{true, typeof(vinylCh), UniformScaling{Bool}, Nothing, Nothing, Nothing, Nothing, Nothing, Nothing, Nothing, Nothing, Nothing, Nothing, Nothing, Nothing, typeof(SciMLBase.DEFAULT_OBSERVED), Nothing}, Vector{Vector{Float64}}, Vector{Float64}, Vector{Vector{Vector{Float64}}}, OrdinaryDiffEq.CompositeCache{Tuple{OrdinaryDiffEq.Tsit5Cache{Vector{Float64}, Vector{Float64}, Vector{Float64}, OrdinaryDiffEq.Tsit5ConstantCache{Float64, Float64}}, OrdinaryDiffEq.Rosenbrock23Cache{Vector{Float64}, Vector{Float64}, Vector{Float64}, Matrix{Float64}, Matrix{Float64}, OrdinaryDiffEq.Rosenbrock23Tableau{Float64}, SciMLBase.TimeGradientWrapper{ODEFunction{true, typeof(vinylCh), UniformScaling{Bool}, Nothing, Nothing, Nothing, Nothing, Nothing, Nothing, Nothing, Nothing, Nothing, Nothing, Nothing, Nothing, typeof(SciMLBase.DEFAULT_OBSERVED), Nothing}, Vector{Float64}, Vector{Any}}, SciMLBase.UJacobianWrapper{ODEFunction{true, typeof(vinylCh), UniformScaling{Bool}, Nothing, Nothing, Nothing, Nothing, Nothing, Nothing, Nothing, Nothing, Nothing, Nothing, Nothing, Nothing, typeof(SciMLBase.DEFAULT_OBSERVED), Nothing}, Float64, Vector{Any}}, DefaultLinSolve, FiniteDiff.JacobianCache{Vector{Float64}, Vector{Float64}, Vector{Float64}, UnitRange{Int64}, Nothing, Val{:forward}(), Float64}, FiniteDiff.GradientCache{Nothing, Vector{Float64}, Vector{Float64}, Float64, Val{:forward}(), Float64, Val{true}()}}}, OrdinaryDiffEq.AutoSwitchCache{Tsit5, Rosenbrock23{0, false, DefaultLinSolve, Val{:forward}}, Rational{Int64}, Int64}}}, DiffEqBase.DEStats}, ODEFunction{true, typeof(vinylCh), UniformScaling{Bool}, Nothing, Nothing, Nothing, Nothing, Nothing, Nothing, Nothing, Nothing, Nothing, Nothing, Nothing, Nothing, typeof(SciMLBase.DEFAULT_OBSERVED), Nothing}, OrdinaryDiffEq.CompositeCache{Tuple{OrdinaryDiffEq.Tsit5Cache{Vector{Float64}, Vector{Float64}, Vector{Float64}, OrdinaryDiffEq.Tsit5ConstantCache{Float64, Float64}}, OrdinaryDiffEq.Rosenbrock23Cache{Vector{Float64}, Vector{Float64}, Vector{Float64}, Matrix{Float64}, Matrix{Float64}, OrdinaryDiffEq.Rosenbrock23Tableau{Float64}, SciMLBase.TimeGradientWrapper{ODEFunction{true, typeof(vinylCh), UniformScaling{Bool}, Nothing, Nothing, Nothing, Nothing, Nothing, Nothing, Nothing, Nothing, Nothing, Nothing, Nothing, Nothing, typeof(SciMLBase.DEFAULT_OBSERVED), Nothing}, Vector{Float64}, Vector{Any}}, SciMLBase.UJacobianWrapper{ODEFunction{true, typeof(vinylCh), UniformScaling{Bool}, Nothing, Nothing, Nothing, Nothing, Nothing, Nothing, Nothing, Nothing, Nothing, Nothing, Nothing, Nothing, typeof(SciMLBase.DEFAULT_OBSERVED), Nothing}, Float64, Vector{Any}}, DefaultLinSolve, FiniteDiff.JacobianCache{Vector{Float64}, Vector{Float64}, Vector{Float64}, UnitRange{Int64}, Nothing, Val{:forward}(), Float64}, FiniteDiff.GradientCache{Nothing, Vector{Float64}, Vector{Float64}, Float64, Val{:forward}(), Float64, Val{true}()}}}, OrdinaryDiffEq.AutoSwitchCache{Tsit5, Rosenbrock23{0, false, DefaultLinSolve, Val{:forward}}, Rational{Int64}, Int64}}, OrdinaryDiffEq.DEOptions{Float64, Float64, Float64, Float64, PIController{Rational{Int64}}, typeof(DiffEqBase.ODE_DEFAULT_NORM), typeof(opnorm), Nothing, CallbackSet{Tuple{}, Tuple{}}, typeof(DiffEqBase.ODE_DEFAULT_ISOUTOFDOMAIN), typeof(DiffEqBase.ODE_DEFAULT_PROG_MESSAGE), typeof(DiffEqBase.ODE_DEFAULT_UNSTABLE_CHECK), DataStructures.BinaryHeap{Float64, DataStructures.FasterForward}, DataStructures.BinaryHeap{Float64, DataStructures.FasterForward}, Nothing, Nothing, Int64, Tuple{}, Tuple{}, Tuple{}}, Vector{Float64}, Float64, Nothing, OrdinaryDiffEq.DefaultInit}, cache::OrdinaryDiffEq.CompositeCache{Tuple{OrdinaryDiffEq.Tsit5Cache{Vector{Float64}, Vector{Float64}, Vector{Float64}, OrdinaryDiffEq.Tsit5ConstantCache{Float64, Float64}}, OrdinaryDiffEq.Rosenbrock23Cache{Vector{Float64}, Vector{Float64}, Vector{Float64}, Matrix{Float64}, Matrix{Float64}, OrdinaryDiffEq.Rosenbrock23Tableau{Float64}, SciMLBase.TimeGradientWrapper{ODEFunction{true, typeof(vinylCh), UniformScaling{Bool}, Nothing, Nothing, Nothing, Nothing, Nothing, Nothing, Nothing, Nothing, Nothing, Nothing, Nothing, Nothing, typeof(SciMLBase.DEFAULT_OBSERVED), Nothing}, Vector{Float64}, Vector{Any}}, SciMLBase.UJacobianWrapper{ODEFunction{true, typeof(vinylCh), UniformScaling{Bool}, Nothing, Nothing, Nothing, Nothing, Nothing, Nothing, Nothing, Nothing, Nothing, Nothing, Nothing, Nothing, typeof(SciMLBase.DEFAULT_OBSERVED), Nothing}, Float64, Vector{Any}}, DefaultLinSolve, FiniteDiff.JacobianCache{Vector{Float64}, Vector{Float64}, Vector{Float64}, UnitRange{Int64}, Nothing, Val{:forward}(), Float64}, FiniteDiff.GradientCache{Nothing, Vector{Float64}, Vector{Float64}, Float64, Val{:forward}(), Float64, Val{true}()}}}, OrdinaryDiffEq.AutoSwitchCache{Tsit5, Rosenbrock23{0, false, DefaultLinSolve, Val{:forward}}, Rational{Int64}, Int64}})",
      "    @ OrdinaryDiffEq ~/.julia/packages/OrdinaryDiffEq/PIjOZ/src/perform_step/composite_perform_step.jl:39",
      "  [5] __init(prob::ODEProblem{Vector{Float64}, Tuple{Float64, Float64}, true, Vector{Any}, ODEFunction{true, typeof(vinylCh), UniformScaling{Bool}, Nothing, Nothing, Nothing, Nothing, Nothing, Nothing, Nothing, Nothing, Nothing, Nothing, Nothing, Nothing, typeof(SciMLBase.DEFAULT_OBSERVED), Nothing}, Base.Iterators.Pairs{Union{}, Union{}, Tuple{}, NamedTuple{(), Tuple{}}}, SciMLBase.StandardODEProblem}, alg::CompositeAlgorithm{Tuple{Tsit5, Rosenbrock23{0, false, DefaultLinSolve, Val{:forward}}}, AutoSwitch{Tsit5, Rosenbrock23{0, false, DefaultLinSolve, Val{:forward}}, Rational{Int64}, Int64}}, timeseries_init::Tuple{}, ts_init::Tuple{}, ks_init::Tuple{}, recompile::Type{Val{true}}; saveat::Tuple{}, tstops::Tuple{}, d_discontinuities::Tuple{}, save_idxs::Nothing, save_everystep::Bool, save_on::Bool, save_start::Bool, save_end::Nothing, callback::Nothing, dense::Bool, calck::Bool, dt::Float64, dtmin::Nothing, dtmax::Float64, force_dtmin::Bool, adaptive::Bool, gamma::Rational{Int64}, abstol::Nothing, reltol::Nothing, qmin::Rational{Int64}, qmax::Int64, qsteady_min::Int64, qsteady_max::Int64, beta1::Nothing, beta2::Nothing, qoldinit::Rational{Int64}, controller::Nothing, fullnormalize::Bool, failfactor::Int64, maxiters::Int64, internalnorm::typeof(DiffEqBase.ODE_DEFAULT_NORM), internalopnorm::typeof(opnorm), isoutofdomain::typeof(DiffEqBase.ODE_DEFAULT_ISOUTOFDOMAIN), unstable_check::typeof(DiffEqBase.ODE_DEFAULT_UNSTABLE_CHECK), verbose::Bool, timeseries_errors::Bool, dense_errors::Bool, advance_to_tstop::Bool, stop_at_next_tstop::Bool, initialize_save::Bool, progress::Bool, progress_steps::Int64, progress_name::String, progress_message::typeof(DiffEqBase.ODE_DEFAULT_PROG_MESSAGE), userdata::Nothing, allow_extrapolation::Bool, initialize_integrator::Bool, alias_u0::Bool, alias_du0::Bool, initializealg::OrdinaryDiffEq.DefaultInit, kwargs::Base.Iterators.Pairs{Symbol, Bool, Tuple{Symbol, Symbol}, NamedTuple{(:default_set, :second_time), Tuple{Bool, Bool}}})",
      "    @ OrdinaryDiffEq ~/.julia/packages/OrdinaryDiffEq/PIjOZ/src/solve.jl:456",
      "  [6] #__solve#465",
      "    @ ~/.julia/packages/OrdinaryDiffEq/PIjOZ/src/solve.jl:4 [inlined]",
      "  [7] __solve(::ODEProblem{Vector{Float64}, Tuple{Float64, Float64}, true, Vector{Any}, ODEFunction{true, typeof(vinylCh), UniformScaling{Bool}, Nothing, Nothing, Nothing, Nothing, Nothing, Nothing, Nothing, Nothing, Nothing, Nothing, Nothing, Nothing, typeof(SciMLBase.DEFAULT_OBSERVED), Nothing}, Base.Iterators.Pairs{Union{}, Union{}, Tuple{}, NamedTuple{(), Tuple{}}}, SciMLBase.StandardODEProblem}, ::Nothing; default_set::Bool, kwargs::Base.Iterators.Pairs{Symbol, Bool, Tuple{Symbol}, NamedTuple{(:second_time,), Tuple{Bool}}})",
      "    @ DifferentialEquations ~/.julia/packages/DifferentialEquations/U5PCN/src/default_solve.jl:7",
      "  [8] #__solve#71",
      "    @ ~/.julia/packages/DiffEqBase/Nyo4y/src/solve.jl:282 [inlined]",
      "  [9] __solve",
      "    @ ~/.julia/packages/DiffEqBase/Nyo4y/src/solve.jl:269 [inlined]",
      " [10] #solve_call#56",
      "    @ ~/.julia/packages/DiffEqBase/Nyo4y/src/solve.jl:61 [inlined]",
      " [11] solve_call",
      "    @ ~/.julia/packages/DiffEqBase/Nyo4y/src/solve.jl:48 [inlined]",
      " [12] #solve_up#58",
      "    @ ~/.julia/packages/DiffEqBase/Nyo4y/src/solve.jl:85 [inlined]",
      " [13] solve_up",
      "    @ ~/.julia/packages/DiffEqBase/Nyo4y/src/solve.jl:75 [inlined]",
      " [14] #solve#57",
      "    @ ~/.julia/packages/DiffEqBase/Nyo4y/src/solve.jl:70 [inlined]",
      " [15] solve(::ODEProblem{Vector{Float64}, Tuple{Float64, Float64}, true, Vector{Any}, ODEFunction{true, typeof(vinylCh), UniformScaling{Bool}, Nothing, Nothing, Nothing, Nothing, Nothing, Nothing, Nothing, Nothing, Nothing, Nothing, Nothing, Nothing, typeof(SciMLBase.DEFAULT_OBSERVED), Nothing}, Base.Iterators.Pairs{Union{}, Union{}, Tuple{}, NamedTuple{(), Tuple{}}}, SciMLBase.StandardODEProblem})",
      "    @ DiffEqBase ~/.julia/packages/DiffEqBase/Nyo4y/src/solve.jl:68",
      " [16] top-level scope",
      "    @ In[47]:13",
      " [17] eval",
      "    @ ./boot.jl:360 [inlined]",
      " [18] include_string(mapexpr::typeof(REPL.softscope), mod::Module, code::String, filename::String)",
      "    @ Base ./loading.jl:1094"
     ]
    }
   ],
   "source": [
    "u0 = [970.24,970.24,2910.75,0.0,0.0,0.0,0.0,5.82,500,400,2000]\n",
    "diam = 0.02\n",
    "tubes = 100\n",
    "vspan = (0.0,3.6*sum(u0[1:8])/100)\n",
    "cps = [0.0293,0.0427,0.0291,0.0772,0.0336,0.0846,0.0371,0.0336]\n",
    "dH = [-236.22,-165.15,-1299.78,-111.97,111.97]\n",
    "Mw = [32,26.04,36.46,96.94,18,131.38,44.01,70.9]\n",
    "po = 2000\n",
    "to = 500\n",
    "fto = sum(u0[1:8])\n",
    "p = [cps,dH,diam,tubes,Mw,po,to,fto]\n",
    "prob = ODEProblem(vinylCh, u0, vspan, p)\n",
    "sol = solve(prob)"
   ]
  },
  {
   "cell_type": "code",
   "execution_count": 44,
   "id": "6f3ca2ba",
   "metadata": {},
   "outputs": [
    {
     "data": {
      "text/plain": [
       "131.382"
      ]
     },
     "execution_count": 44,
     "metadata": {},
     "output_type": "execute_result"
    }
   ],
   "source": [
    "12.011*2+1.01+35.45*3"
   ]
  },
  {
   "cell_type": "code",
   "execution_count": null,
   "id": "0d7cec17",
   "metadata": {},
   "outputs": [],
   "source": []
  }
 ],
 "metadata": {
  "kernelspec": {
   "display_name": "Julia 1.6.1",
   "language": "julia",
   "name": "julia-1.6"
  },
  "language_info": {
   "file_extension": ".jl",
   "mimetype": "application/julia",
   "name": "julia",
   "version": "1.6.1"
  }
 },
 "nbformat": 4,
 "nbformat_minor": 5
}
