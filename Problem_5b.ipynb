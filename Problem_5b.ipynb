{
 "cells": [
  {
   "cell_type": "code",
   "execution_count": 1,
   "id": "344d5ec8",
   "metadata": {},
   "outputs": [],
   "source": [
    "using Plots\n",
    "using JuMP\n",
    "using Ipopt"
   ]
  },
  {
   "cell_type": "code",
   "execution_count": 2,
   "id": "0d749bfb",
   "metadata": {},
   "outputs": [
    {
     "data": {
      "text/plain": [
       "geoMean (generic function with 1 method)"
      ]
     },
     "execution_count": 2,
     "metadata": {},
     "output_type": "execute_result"
    }
   ],
   "source": [
    "#geometric mean of relative volitilies, useful for shortcut column\n",
    "function geoMean(kLightKeyDist, kLightKeyBot, kHeavyKeyDist, kHeavyKeyBot)\n",
    "    return(sqrt((kLightKeyDist*kLightKeyBot)/(kHeavyKeyDist*kHeavyKeyBot)))\n",
    "end"
   ]
  },
  {
   "cell_type": "code",
   "execution_count": 5,
   "id": "5a88d949",
   "metadata": {},
   "outputs": [
    {
     "data": {
      "text/plain": [
       "fenske (generic function with 1 method)"
      ]
     },
     "execution_count": 5,
     "metadata": {},
     "output_type": "execute_result"
    }
   ],
   "source": [
    "#Fenske equation used in step 3 of column sizing to get the \n",
    "function fenske(xLightKeyDist, kLightKeyDist, xHeavyKeyDist, kHeavyKeyDist, xLightKeyBot, kLightKeyBot,\n",
    "        xHeavyKeyBot, kHeavyKeyBot)\n",
    "    α_avg = geoMean(kLightKeyDist, kLightKeyBot, kHeavyKeyDist, kHeavyKeyBot)\n",
    "    n = log10(xLightKeyDist*xHeavyKeyBot/(xLightKeyBot*xHeavyKeyDist)) / log10(α_avg)\n",
    "    return(n) #return number of trays\n",
    "end"
   ]
  },
  {
   "cell_type": "code",
   "execution_count": 6,
   "id": "f77d13c2",
   "metadata": {},
   "outputs": [
    {
     "data": {
      "text/plain": [
       "step4obj (generic function with 1 method)"
      ]
     },
     "execution_count": 6,
     "metadata": {},
     "output_type": "execute_result"
    }
   ],
   "source": [
    "function step4obj(α, nmin, F, D, B, xHKd, xHKb, xfi, xbi)\n",
    "    return((F*xfi-B*xbi-D* (α^nmin* xHKd/xHKb*xbi))^2) \n",
    "end"
   ]
  },
  {
   "cell_type": "code",
   "execution_count": 8,
   "id": "97bee5fa",
   "metadata": {},
   "outputs": [
    {
     "data": {
      "text/plain": [
       "step4 (generic function with 1 method)"
      ]
     },
     "execution_count": 8,
     "metadata": {},
     "output_type": "execute_result"
    }
   ],
   "source": [
    "function step4(α, nmin, F, D, B, xHKd, xHKb, xfi)\n",
    "    model = Model(with_optimizer(Ipopt.Optimizer))\n",
    "    set_silent(model)\n",
    "    register(model, :step4obj, 9, step4obj; autodiff = true)\n",
    "    @variable(model, xbi)\n",
    "    @NLconstraint(model, xbi >= 1e-6)\n",
    "    @NLobjective(model, Min, step4obj(α, nmin, F, D, B, xHKd, xHKb, xfi, xbi))\n",
    "    optimize!(model)\n",
    "    xdi = (F*xfi-B*value(xbi))/D\n",
    "    return(value(xbi), xdi)\n",
    "end"
   ]
  },
  {
   "cell_type": "code",
   "execution_count": 52,
   "id": "e51c9a32",
   "metadata": {},
   "outputs": [
    {
     "data": {
      "text/plain": [
       "underwood (generic function with 1 method)"
      ]
     },
     "execution_count": 52,
     "metadata": {},
     "output_type": "execute_result"
    }
   ],
   "source": [
    "#Underwood equation for finding theta\n",
    "function underwood(kDist, kBot, kHeavyKeyDist, kHeavyKeyBot, xFeed, qual, xDist)\n",
    "    l = length(kDist)\n",
    "    α = zeros(l)\n",
    "    for i = 1:l\n",
    "       α[i] = geoMean(kDist[i], kBot[i], kHeavyKeyDist, kHeavyKeyBot) \n",
    "    end\n",
    "    \n",
    "    model = Model(with_optimizer(Ipopt.Optimizer))\n",
    "    set_silent(model)\n",
    "    @variable(model, Θ)\n",
    "    @NLconstraint(model, 1<= Θ <= maximum(α))\n",
    "    @NLobjective(model, Min, (sum((α[i]*xFeed[i])/(α[i]-Θ) for i in 1:l) + qual -1)^2)\n",
    "    optimize!(model)\n",
    "    \n",
    "    rmin = sum(((α .* xDist) ./ (α .- value(Θ)))) - 1\n",
    "    return(rmin)\n",
    "end"
   ]
  },
  {
   "cell_type": "code",
   "execution_count": 69,
   "id": "dfcd79bf",
   "metadata": {},
   "outputs": [
    {
     "data": {
      "text/plain": [
       "gilliand (generic function with 1 method)"
      ]
     },
     "execution_count": 69,
     "metadata": {},
     "output_type": "execute_result"
    }
   ],
   "source": [
    "#Gilliand correlation for FUG method\n",
    "function gilliand(ract, rmin, nmin)\n",
    "    m = Model(with_optimizer(Ipopt.Optimizer))\n",
    "    set_silent(m)\n",
    "    @variable(m, Nact)\n",
    "    @NLconstraint(m, nmin <= Nact)\n",
    "    @NLobjective(m, Min, (0.75*(1-(ract-rmin/(ract+1))^0.566) - (Nact-nmin)/(Nact+1))^2)\n",
    "    optimize!(m)\n",
    "    return(value(Nact))\n",
    "end"
   ]
  },
  {
   "cell_type": "code",
   "execution_count": 103,
   "id": "aba5dd66",
   "metadata": {},
   "outputs": [
    {
     "data": {
      "text/plain": [
       "kirkbride (generic function with 1 method)"
      ]
     },
     "execution_count": 103,
     "metadata": {},
     "output_type": "execute_result"
    }
   ],
   "source": [
    "#Kirkbride function for finding optimal feed stage, uses ipopt solver\n",
    "function kirkbride(B,D,xHKFeed,xLKFeed,xLKBot,xHKDist, nTot)\n",
    "    t = ((B/D) * (xHKFeed/xLKFeed) * (xLKBot/xHKDist)^2)^0.206\n",
    "    model = Model(with_optimizer(Ipopt.Optimizer))\n",
    "    set_silent(model)\n",
    "    @variable(model, m) # where m is number of stages above feed\n",
    "    @NLconstraint(model, 0.2 <= m <= nTot-0.2)\n",
    "    @NLobjective(model, Min, (m/(nTot-m) - t)^2)\n",
    "    optimize!(model)\n",
    "    return(value(m), nTot-value(m)) #return number stages above, number of stages below\n",
    "end"
   ]
  },
  {
   "cell_type": "code",
   "execution_count": 112,
   "id": "e682281d",
   "metadata": {},
   "outputs": [
    {
     "data": {
      "text/plain": [
       "part10 (generic function with 1 method)"
      ]
     },
     "execution_count": 112,
     "metadata": {},
     "output_type": "execute_result"
    }
   ],
   "source": [
    "function part10(F_ha, F_f, F_st, Cs, ρ_l, ρ_g, f, A_d, A_t, G)\n",
    "    C = F_ha * F_f * F_st * Cs\n",
    "    Uf = C*sqrt((ρ_l-ρ_g)/ρ_g)\n",
    "    Dt = sqrt(4*G/ (f*Uf*pi*(1-A_d/A_t)*ρ_g))\n",
    "    return(Dt)\n",
    "end"
   ]
  },
  {
   "cell_type": "markdown",
   "id": "2eb04fa6",
   "metadata": {},
   "source": [
    "#### Step 1 \n",
    "We begin by defining the light and heavy keys. We elected to use the PRSV eos because it is designed for polar chemical systems particularly with dilute solutions. The heavy key is given as 1,2 dichloroethane. The light key was found using HYSYS K values. The next greatest K value is for water this is the light key. We assumed a feed basis of 100 kmol/hr.\n"
   ]
  },
  {
   "cell_type": "markdown",
   "id": "4310c65f",
   "metadata": {},
   "source": [
    "![title](kValsFeed5b.png)"
   ]
  },
  {
   "cell_type": "code",
   "execution_count": 92,
   "id": "097db877",
   "metadata": {},
   "outputs": [
    {
     "name": "stdout",
     "output_type": "stream",
     "text": [
      "0.005159552277135865 x val of HK in distilate 0.0018919294428563402 x val of LK in bottoms"
     ]
    }
   ],
   "source": [
    "### define molar flows in feed, bottoms, and distillate by assuming splits given in problem statement\n",
    "### and letting all HNK go to distillate and all LNK to the bottoms\n",
    "feedBasis = 1\n",
    "xFeed = [0.1493,0.5083,0.0007,0.0096,0.3321]\n",
    "feedMolFlow = xFeed * feedBasis\n",
    "distMolFlow = zeros(5)\n",
    "botMolFlow = zeros(5)\n",
    "distMolFlow[1] = feedMolFlow[1]; distMolFlow[2] = feedMolFlow[2]*0.005; distMolFlow[4] = feedMolFlow[4]*0.9; \n",
    "distMolFlow[5] = feedMolFlow[5]\n",
    "botMolFlow[2] = feedMolFlow[2]*0.995; botMolFlow[3] = feedMolFlow[3]; botMolFlow[4] = feedMolFlow[4]*0.1;\n",
    "xDist = zeros(5)\n",
    "xBot = zeros(5)\n",
    "for i = 1:5\n",
    "    xDist[i] = distMolFlow[i]/sum(distMolFlow)\n",
    "    xBot[i] = botMolFlow[i]/sum(botMolFlow)\n",
    "end\n",
    "print(xDist[2], \" x val of HK in distilate \" , xBot[4], \" x val of LK in bottoms\")"
   ]
  },
  {
   "cell_type": "markdown",
   "id": "69da9c58",
   "metadata": {},
   "source": [
    "#### Step 2\n",
    "After using the above ratios in the performance data above and a pressure of 1100kPa in the bottoms(given) and 1090kPa in the distilate using the suggestion that for preliminary design we estimate 0.1 psi drop per tray with an estimated 10-15 trays, with a total condenser and partial reboiler. We went with a total condenser because we do not have any extremely volitile components and a partial reboiler because we are going to need to run this at well above 100 degrees celcius so we would like to keep the energy costs low."
   ]
  },
  {
   "cell_type": "markdown",
   "id": "7d5d1a9a",
   "metadata": {},
   "source": [
    "#### Step 3\n",
    "Now we can use the K values from the full column to continue with the Fenske equation specified above\n",
    "\n",
    "![title](kvals_full.png)"
   ]
  },
  {
   "cell_type": "code",
   "execution_count": 105,
   "id": "471ac4e5",
   "metadata": {},
   "outputs": [
    {
     "name": "stdout",
     "output_type": "stream",
     "text": [
      "Theoretical min number of stages is 4.25510676647357"
     ]
    }
   ],
   "source": [
    "xLKd = xDist[4]\n",
    "kLKd = 1.36\n",
    "xHKd = xDist[2]\n",
    "kHKd = 0.1005\n",
    "xLKb = xBot[4]\n",
    "kLKb = 2.426\n",
    "xHKb = xBot[2]\n",
    "kHKb = 0.9746\n",
    "\n",
    "nmin = fenske(xLKd, kLKd, xHKd, kHKd, xLKb, kLKb, xHKb, kHKb)\n",
    "print(\"Theoretical min number of stages is \", nmin)"
   ]
  },
  {
   "cell_type": "markdown",
   "id": "5cca0613",
   "metadata": {},
   "source": [
    "#### Step 4\n",
    "We can now find the compositions of the non-key components using the step 4 function above:"
   ]
  },
  {
   "cell_type": "code",
   "execution_count": 106,
   "id": "b49d0130",
   "metadata": {},
   "outputs": [
    {
     "name": "stdout",
     "output_type": "stream",
     "text": [
      "13-Butadine bottoms frac 0.017978267847049492 distilate frac 0.2867149589710671\n",
      "Trichloroethane bottoms frac 0.0013685282790636517 distilate frac 4.5252577438097823e-7\n",
      "Vinyl chloride bottoms frac 0.028211706191844675 distilate frac 0.6500884756378232\n"
     ]
    }
   ],
   "source": [
    "names = [\"13-Butadine\", \"Trichloroethane\", \"Vinyl chloride\"]\n",
    "kNKd = [0.8793, 4.605e-2, 1.053] #this is 13-Butadiene, 112-ClC2, VinylCl\n",
    "kNKb = [4.824, 0.5795, 4.789]\n",
    "xfi = [0.1493, 0.0007, 0.3321]\n",
    "xHKd = 0.0052\n",
    "xHKb = 0.9889\n",
    "alp = zeros(3)\n",
    "for i = 1:3\n",
    "     alp[i] = geoMean(kNKd[i], kNKb[i], kHKd, kHKb)\n",
    "end\n",
    "\n",
    "F = 4234\n",
    "B = 2165\n",
    "D = F-B\n",
    "\n",
    "for i = 1:3\n",
    "    xbi, xdi = step4(alp[i], nmin, F, D, B, xHKd, xHKb, xfi[i])\n",
    "    print(names[i], \" bottoms frac \", xbi, \" distilate frac \", xdi, '\\n')\n",
    "end"
   ]
  },
  {
   "cell_type": "markdown",
   "id": "77ac78e6",
   "metadata": {},
   "source": [
    "#### Step 5\n",
    "Now we can use the Underwood equation defined above to find the minimum reflux ratio."
   ]
  },
  {
   "cell_type": "code",
   "execution_count": 107,
   "id": "a8b763d0",
   "metadata": {},
   "outputs": [
    {
     "name": "stdout",
     "output_type": "stream",
     "text": [
      "The min reflux ratio is 0.3764543799630531"
     ]
    }
   ],
   "source": [
    "kDist = [0.8793, 0.1005, 4.605e-2, 1.36, 1.053]\n",
    "kBot = [4.824, 0.9746, 0.5795, 2.426, 4.789]\n",
    "kHKd = 0.1005\n",
    "kHKb = 0.9746\n",
    "xFeed = [0.1493, 0.5083, 0.0007, 0.0096, 0.3321]\n",
    "qual = 0.7338 #looked at the feed stream in HYSYS\n",
    "xDist = [0.28686, xHKd, 4.5122e-7, xLKd , 0.65033]\n",
    "\n",
    "rmin = underwood(kDist, kBot, kHKd, kHKb, xFeed, qual, xDist)\n",
    "print(\"The min reflux ratio is \", rmin)"
   ]
  },
  {
   "cell_type": "markdown",
   "id": "03f80b07",
   "metadata": {},
   "source": [
    "#### Part 6\n",
    "Now we we use the heuristic that the actual reflux ratio should be between 1.1 and 1.4 times the min reflux ratio and we find:"
   ]
  },
  {
   "cell_type": "code",
   "execution_count": 108,
   "id": "b8747aa6",
   "metadata": {},
   "outputs": [
    {
     "name": "stdout",
     "output_type": "stream",
     "text": [
      "Our actual reflux ratio is 0.48939069395196905"
     ]
    }
   ],
   "source": [
    "ract = 1.3*rmin\n",
    "print(\"Our actual reflux ratio is \", ract)"
   ]
  },
  {
   "cell_type": "markdown",
   "id": "34c2f133",
   "metadata": {},
   "source": [
    "#### Part 7\n",
    "We can now use the Gilliand correlation to find the actual number of stages needed"
   ]
  },
  {
   "cell_type": "code",
   "execution_count": 109,
   "id": "f881c342",
   "metadata": {},
   "outputs": [
    {
     "name": "stdout",
     "output_type": "stream",
     "text": [
      "Our actual number of stages will be 14.73292374395708"
     ]
    }
   ],
   "source": [
    "nact = gilliand(rmin, ract, nmin)\n",
    "print(\"Our actual number of stages will be \", nact)"
   ]
  },
  {
   "cell_type": "markdown",
   "id": "352eb640",
   "metadata": {},
   "source": [
    "#### Part 8\n",
    "We are now ready for the Kirkbride equation which will give us the optimal feed stage"
   ]
  },
  {
   "cell_type": "code",
   "execution_count": 110,
   "id": "8ce5cecb",
   "metadata": {},
   "outputs": [
    {
     "name": "stdout",
     "output_type": "stream",
     "text": [
      "our optimal feed stage is 8.845434704354513 from the top and 5.887489039602567 from the bottom"
     ]
    }
   ],
   "source": [
    "above, below = kirkbride(B,D,xHKFeed,xFeed[4],xLKb,xHKd, nact)\n",
    "print(\"our optimal feed stage is \", above, \" from the top and \", below, \" from the bottom\")"
   ]
  },
  {
   "cell_type": "markdown",
   "id": "82464f04",
   "metadata": {},
   "source": [
    "#### Part 9\n",
    "Our column internals will be informed by the fact that we have a large flow rate. We elected to go with 4 pass sieve trays. These trays are not particulary efficent but they are better for large columns as long as the turndown ratio is not large. Our customer has not given us any information regarding this. When we went to simulate the full column in HYSYS we used the same 4 pass sieve trays with significant internal modification to get the simulation to converge with no warnings. In our simulation we used the following configuration:\n",
    "![title](internals.png)"
   ]
  },
  {
   "cell_type": "markdown",
   "id": "2607315d",
   "metadata": {},
   "source": [
    "#### Step 10\n",
    "We will now use the data from our HYSYS simulation to plug into the equation for step 10 to get column diameter. To do this we will need to size the column at both the top and the bottom. The following 3 screenshots are from our HYSYS simulation and will help us to find the physical data we need. Also note some of the information is in the screenshot from step 9.\n",
    "![title](column_flow_rates.png)\n",
    "![title](column_physical_props.png)\n",
    "![title](cs_column.png)"
   ]
  },
  {
   "cell_type": "code",
   "execution_count": 125,
   "id": "541aa84b",
   "metadata": {},
   "outputs": [
    {
     "name": "stdout",
     "output_type": "stream",
     "text": [
      "The diameter at the top of the column is 3.383217308862213 m and at the bottom 3.2132679229726624 m"
     ]
    }
   ],
   "source": [
    "F_ha = 0.1 #from part 9 screenshot\n",
    "F_f = 1\n",
    "F_st_top = (9.731/20)^0.2\n",
    "F_st_bot = (10.62/20)^0.2\n",
    "Cs_top = 7.673e-1\n",
    "Cs_bot = 5.566e-1\n",
    "ρ_l_top = 732.5\n",
    "ρ_l_bot = 969.7\n",
    "ρ_g_top = 26.45\n",
    "ρ_g_bot = 33.07\n",
    "f = 0.8\n",
    "A_d = 0.4366\n",
    "A_t = (3.1/2)^2*pi\n",
    "G_top = 221455/3600 #convert hours to minutes\n",
    "G_bot = 189916/3600\n",
    "\n",
    "Dtop = part10(F_ha, F_f, F_st_top, Cs_top, ρ_l_top, ρ_g_top, f, A_d, A_t, G_top)\n",
    "Dbot = part10(F_ha, F_f, F_st_bot, Cs_bot, ρ_l_bot, ρ_g_bot, f, A_d, A_t, G_bot)\n",
    "\n",
    "print(\"The diameter at the top of the column is \", Dtop, \" m and at the bottom \", Dbot, \" m\")"
   ]
  },
  {
   "cell_type": "markdown",
   "id": "38620869",
   "metadata": {},
   "source": [
    "We would elect to go with the bigger diameter which in this case is at the top of the column and is 3.38 meters. "
   ]
  },
  {
   "cell_type": "markdown",
   "id": "e235635a",
   "metadata": {},
   "source": [
    "#### Step 11\n",
    "We can now calculate the height of the column. We have a tray spacing that is on the edge between using 24 and 36 inches, we went with 24 inches in order to try and keep the expense down. We then used the following graph to find the tray efficiency. \n",
    "![title](tray_ef_graph.png)"
   ]
  },
  {
   "cell_type": "code",
   "execution_count": 129,
   "id": "cd3e3ecb",
   "metadata": {},
   "outputs": [
    {
     "data": {
      "text/plain": [
       "0.7922299731371087"
      ]
     },
     "execution_count": 129,
     "metadata": {},
     "output_type": "execute_result"
    }
   ],
   "source": [
    "lvvp = 10*geoMean(kLKd, kLKb, kHKd, kHKb)*1.365e-2"
   ]
  },
  {
   "cell_type": "markdown",
   "id": "de539043",
   "metadata": {},
   "source": [
    "We can see the overall tray efficiency is about 55% thus we can find the total number of trays, multiply by the tray spacing, and add 14 ft total for bottoms storage and disengagement height at the top."
   ]
  },
  {
   "cell_type": "code",
   "execution_count": 130,
   "id": "43e231e5",
   "metadata": {},
   "outputs": [
    {
     "name": "stdout",
     "output_type": "stream",
     "text": [
      "Our total column height is 20.610151788752397 m"
     ]
    }
   ],
   "source": [
    "height = nact/0.55*0.61 + 14*0.305\n",
    "print(\"Our total column height is \", height, \" m\")"
   ]
  },
  {
   "cell_type": "markdown",
   "id": "24ff2bc7",
   "metadata": {},
   "source": [
    "We elected to use stainless steel for our column because it is inexpensive, versitile, and none of our componets are acids so we expect it to wear nicely. There are also a wide variety of steel grades that might suit our needs. "
   ]
  },
  {
   "cell_type": "markdown",
   "id": "94a3a248",
   "metadata": {},
   "source": [
    "| |Hand calc | Shortcut HYSYS | Full HYSYS|\n",
    "|---|---|---|---|\n",
    "|$N_{min}$|4.25|4.5|\n",
    "|N|14.7|12.3|13|\n",
    "|$N_{feed}$|8.8|7.4|8|\n",
    "|$R_{min}$|0.376|0.401|0.65|\n",
    "|R|0.489|0.51|0.8|\n",
    "|Diameter|3.38||3.1|\n",
    "|Height|20.61||7.8\n",
    "|Internals|Simple Sieve|Simple Sieve|4 pass sieve, with modified downcomers|"
   ]
  },
  {
   "cell_type": "markdown",
   "id": "828842a4",
   "metadata": {},
   "source": [
    "We can see from our comparision table the minimum, actual, and feed trays are all quite similar across all columns. The reflux ratio for the hand calcs and the shortcut column were close but the full HYSYS column took a much higher ratio to converge. We ultimately went with 0.8 because it gave us some wiggle room with other parameters. Our actual reflux ratio again was close for the hand calc and shortcut column, but significantly higher for the full column. We think the reflux ratio is higher in the full column becuase of significant non-ideal liquid interaction between polar and non-polar molecules. The diameter was similar between the hand calculations and the full HYSYS column. We also note we had to change the diameter of the HYSYS column because it was initially too small. The biggest difference was between the hand calcs and the full column in HYSYS for height. We are not entirely sure why there is such a large discrepancy here, but one reason is because HYSYS may not be adding the additional space for bottoms storage and disengagement height at the top. The other is HYSYS may be trying to pack the column down as far as possible, which may be cost effective for building it, but makes maintence much more difficult. \n",
    "\n",
    "In our full HYSYS column we specified the reflux ratio and the recovery of 12-ClC2 in the bottoms. We had an idea about what the reflux ratio might be and the customer gave us the spec for the bottoms recovery. The reflux ratio was significantly higher than we expected, but once we had it converged the rest of the column was easy enough to design. \n",
    "\n",
    "This column seems feasible from a building standpoint. a column of 20 meters is tall, but not uncommon in the hydrocarbon industry. If the height is closer the full column in HYSYS then it is not  tall than a 2 story building, quite feasible indeed. The next steps for us would be an economics study. We have not looked at the energy consumption or the cost of running the column vs. profit. At this point we can say the column is buildable, but not if it make financial sense to build it. "
   ]
  },
  {
   "cell_type": "code",
   "execution_count": null,
   "id": "e26d869e",
   "metadata": {},
   "outputs": [],
   "source": []
  }
 ],
 "metadata": {
  "kernelspec": {
   "display_name": "Julia 1.6.1",
   "language": "julia",
   "name": "julia-1.6"
  },
  "language_info": {
   "file_extension": ".jl",
   "mimetype": "application/julia",
   "name": "julia",
   "version": "1.6.1"
  }
 },
 "nbformat": 4,
 "nbformat_minor": 5
}
