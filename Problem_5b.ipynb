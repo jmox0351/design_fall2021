{
 "cells": [
  {
   "cell_type": "code",
   "execution_count": 3,
   "id": "344d5ec8",
   "metadata": {},
   "outputs": [],
   "source": [
    "using Plots\n",
    "using JuMP\n",
    "using Ipopt"
   ]
  },
  {
   "cell_type": "code",
   "execution_count": 14,
   "id": "0d749bfb",
   "metadata": {},
   "outputs": [
    {
     "data": {
      "text/plain": [
       "geoMean (generic function with 1 method)"
      ]
     },
     "execution_count": 14,
     "metadata": {},
     "output_type": "execute_result"
    }
   ],
   "source": [
    "#geometric mean of relative volitilies, useful for shortcut column\n",
    "function geoMean(kLightKeyDist, kLightKeyBot, kHeavyKeyDist, kHeavyKeyBot)\n",
    "    return(sqrt((kLightKeyDist*kLightKeyBot)/(kHeavyKeyDist*kHeavyKeyBot)))\n",
    "end"
   ]
  },
  {
   "cell_type": "code",
   "execution_count": 32,
   "id": "5a88d949",
   "metadata": {},
   "outputs": [
    {
     "data": {
      "text/plain": [
       "fenske (generic function with 1 method)"
      ]
     },
     "execution_count": 32,
     "metadata": {},
     "output_type": "execute_result"
    }
   ],
   "source": [
    "#Fenske equation used in step 3 of column sizing to get the \n",
    "function fenske(xLightKeyDist, kLightKeyDist, xHeavyKeyDist, kHeavyKeyDist, xLightKeyBot, kLightKeyBot,\n",
    "        xHeavyKeyBot, kHeavyKeyBot)\n",
    "    α_avg = geoMean(kLightKeyDist, kLightKeyBot, kHeavyKeyDist, kHeavyKeyBot)\n",
    "    n = log10(xLightKeyDist*xHeavyKeyBot/(xLightKeyBot*xHeavyKeyDist)) / log10(α_avg)\n",
    "    return(n) #return number of trays\n",
    "end"
   ]
  },
  {
   "cell_type": "code",
   "execution_count": 52,
   "id": "f77d13c2",
   "metadata": {},
   "outputs": [
    {
     "data": {
      "text/plain": [
       "step4obj (generic function with 2 methods)"
      ]
     },
     "execution_count": 52,
     "metadata": {},
     "output_type": "execute_result"
    }
   ],
   "source": [
    "function step4obj(α, nmin, F, D, B, xHKd, xHKb, xfi, xbi)\n",
    "    return((F*xfi-B*xbi-D* (α^nmin* xHKd/xHKb*xbi))^2) \n",
    "end"
   ]
  },
  {
   "cell_type": "code",
   "execution_count": 53,
   "id": "97bee5fa",
   "metadata": {},
   "outputs": [
    {
     "data": {
      "text/plain": [
       "step4 (generic function with 1 method)"
      ]
     },
     "execution_count": 53,
     "metadata": {},
     "output_type": "execute_result"
    }
   ],
   "source": [
    "function step4(α, nmin, F, D, B, xHKd, xHKb, xfi)\n",
    "    model = Model(with_optimizer(Ipopt.Optimizer))\n",
    "    set_silent(model)\n",
    "    register(model, :step4obj, 9, step4obj; autodiff = true)\n",
    "    @variable(model, xbi)\n",
    "    @NLconstraint(model, xbi >= 1e-6)\n",
    "    @NLobjective(model, Min, step4obj(α, nmin, F, D, B, xHKd, xHKb, xfi, xbi))\n",
    "    optimize!(model)\n",
    "    xdi = (F*xfi-B*value(xbi))/D\n",
    "    return(value(xbi), xdi)\n",
    "end"
   ]
  },
  {
   "cell_type": "code",
   "execution_count": 65,
   "id": "e51c9a32",
   "metadata": {},
   "outputs": [
    {
     "data": {
      "text/plain": [
       "underwood (generic function with 1 method)"
      ]
     },
     "execution_count": 65,
     "metadata": {},
     "output_type": "execute_result"
    }
   ],
   "source": [
    "#Underwood equation for finding theta\n",
    "function underwood(kDist, kBot, kHeavyKeyDist, kHeavyKeyBot, xFeed, qual, xDist)\n",
    "    l = length(kDist)\n",
    "    α = zeros(l)\n",
    "    for i = 1:l\n",
    "       α[i] = geoMean(kDist[i], kBot[i], kHeavyKeyDist, kHeavyKeyBot) \n",
    "    end\n",
    "    \n",
    "    num = sum(α .* xFeed)\n",
    "    model = Model(with_optimizer(Ipopt.Optimizer))\n",
    "    set_silent(model)\n",
    "    @variable(model, Θ)\n",
    "    @NLobjective(model, Min, abs(num/sum(α[i] - Θ for i in 1:l)) + qual -1)\n",
    "    optimize!(model)\n",
    "    \n",
    "    rmin = sum(((α .* xDist) ./ (α .- value(Θ)))) - 1\n",
    "    return(rmin)\n",
    "end"
   ]
  },
  {
   "cell_type": "code",
   "execution_count": 121,
   "id": "4f2b7e56",
   "metadata": {},
   "outputs": [
    {
     "data": {
      "text/plain": [
       "-24.999982157899904"
      ]
     },
     "execution_count": 121,
     "metadata": {},
     "output_type": "execute_result"
    }
   ],
   "source": [
    "alpha = [3.38, 1, 0.323, 0.109]\n",
    "xFeed = [0.25, 0.25, 0.25, 0.25]\n",
    "num = sum(alpha.*xFeed)\n",
    "m = Model(with_optimizer(Ipopt.Optimizer))\n",
    "set_silent(m)\n",
    "@variable(m, Θ)\n",
    "@NLconstraint(m, -25 <= Θ <= 25)\n",
    "@NLobjective(m, Min, sum((alpha[i]*xFeed[i]/(alpha[i] - Θ)) for i in 1:4)^2)\n",
    "optimize!(m)\n",
    "value(Θ)"
   ]
  },
  {
   "cell_type": "code",
   "execution_count": 102,
   "id": "9a710dae",
   "metadata": {},
   "outputs": [
    {
     "data": {
      "text/plain": [
       "0.001906542359375894"
      ]
     },
     "execution_count": 102,
     "metadata": {},
     "output_type": "execute_result"
    }
   ],
   "source": [
    "sum((alpha[i]*xFeed[i]/(alpha[i] - value(Θ))) for i in 1:4)^2"
   ]
  },
  {
   "cell_type": "code",
   "execution_count": 129,
   "id": "5f6769c3",
   "metadata": {},
   "outputs": [
    {
     "data": {
      "text/plain": [
       "4-element Vector{Float64}:\n",
       "  0.37061403508771934\n",
       " -2.499999999999998\n",
       " -0.10392535392535392\n",
       " -0.027497477295660946"
      ]
     },
     "execution_count": 129,
     "metadata": {},
     "output_type": "execute_result"
    }
   ],
   "source": [
    "(alpha .* xFeed) ./ (alpha .- 1.1)"
   ]
  },
  {
   "cell_type": "code",
   "execution_count": 4,
   "id": "aba5dd66",
   "metadata": {},
   "outputs": [
    {
     "data": {
      "text/plain": [
       "kirkbride (generic function with 1 method)"
      ]
     },
     "execution_count": 4,
     "metadata": {},
     "output_type": "execute_result"
    }
   ],
   "source": [
    "#Kirkbride function for finding optimal feed stage, uses ipopt solver\n",
    "function kirkbride(B,D,xHKFeed,xLKFeed,xLKBot,xHKDist, nTot)\n",
    "    t = ((B/D) * (xHKFeed/xLKFeed) * (xLKBot/xHKDist)^2)^0.206\n",
    "    model = Model(with_optimizer(Ipopt.Optimizer))\n",
    "    @variable(model, m) # where m is number of stages above feed\n",
    "    @NLconstraint(model, 0.2 <= m <= nTot-0.2)\n",
    "    @NLobjective(model, Min, abs(m/(nTot-m) - t))\n",
    "    optimize!(model)\n",
    "    return(value(m), nTot-value(m)) #return number stages above, number of stages below\n",
    "end"
   ]
  },
  {
   "cell_type": "markdown",
   "id": "2eb04fa6",
   "metadata": {},
   "source": [
    "### Part 1 \n",
    "We begin by defining the light and heavy keys. We elected to use the PRSV eos because it is designed for polar chemical systems particularly with dilute solutions. The heavy key is given as 1,2 dichloroethane. The light key was found using HYSYS K values. The next greatest K value is for water this is the light key. We assumed a feed basis of 100 kmol/hr.\n"
   ]
  },
  {
   "cell_type": "markdown",
   "id": "4310c65f",
   "metadata": {},
   "source": [
    "![title](kValsFeed5b.png)"
   ]
  },
  {
   "cell_type": "code",
   "execution_count": 5,
   "id": "097db877",
   "metadata": {},
   "outputs": [
    {
     "name": "stdout",
     "output_type": "stream",
     "text": [
      "0.005159552277135864 x val of HK in distilate 0.0018919294428563409 x val of LK in bottoms"
     ]
    }
   ],
   "source": [
    "### define molar flows in feed, bottoms, and distillate by assuming splits given in problem statement\n",
    "### and letting all HNK go to distillate and all LNK to the bottoms\n",
    "feedBasis = 100\n",
    "xFeed = [0.1493,0.5083,0.0007,0.0096,0.3321]\n",
    "feedMolFlow = xFeed * feedBasis\n",
    "distMolFlow = zeros(5)\n",
    "botMolFlow = zeros(5)\n",
    "distMolFlow[1] = feedMolFlow[1]; distMolFlow[2] = feedMolFlow[2]*0.005; distMolFlow[4] = feedMolFlow[4]*0.9; \n",
    "distMolFlow[5] = feedMolFlow[5]\n",
    "botMolFlow[2] = feedMolFlow[2]*0.995; botMolFlow[3] = feedMolFlow[3]; botMolFlow[4] = feedMolFlow[4]*0.1;\n",
    "xDist = zeros(5)\n",
    "xBot = zeros(5)\n",
    "for i = 1:5\n",
    "    xDist[i] = distMolFlow[i]/sum(distMolFlow)\n",
    "    xBot[i] = botMolFlow[i]/sum(botMolFlow)\n",
    "end\n",
    "print(xDist[2], \" x val of HK in distilate \" , xBot[4], \" x val of LK in bottoms\")"
   ]
  },
  {
   "cell_type": "markdown",
   "id": "69da9c58",
   "metadata": {},
   "source": [
    "After using the above ratios in the performance data above and a pressure of 1100kPa in the bottoms(given) and 1090kPa in the distilate using the suggestion that for preliminary design we estimate 0.1 psi drop per tray with an estimated 10-15 trays, with a total condenser and partial reboiler. The minimum reflux ratio was then calculate to be 0.401. We multiplied by 1.27 which is in between 1.1 and 1.4 and got 0.51 which we used as the external reflux ratio, as seen below.\n",
    "![title](shortcut_col_design_param.png)"
   ]
  },
  {
   "cell_type": "markdown",
   "id": "e3a12754",
   "metadata": {},
   "source": [
    "We were then able to look at the performance tab to find the number of trays to use, 13, and the optimal feed stage 8. We were then ready to go with our full column simulation. We used the same feed stream composition, temperature and pressure and 13 stages. A once through regular HYSYS reboiler. 1100kPa for the reboiler, with a 10kPa drop through the reboiler, 1061 kPa for the condenser, with a 10kPa drop through the condenser, in accordance with the heuristic that a phase change in a heat exchanger should be done with a 10kPa drop. We used the condenser and reboiler temperature estimates from the shortcut column in the full column which were 68 and 183 degrees Celcius respectively. 0.8 reflux ratio because we found we needed a much higher value than expected and then a 99.5%. The bottoms flow rate ended up being to 2165 kgmol/hr. This resulted in a purity in the bottoms stream of $12-ClC_2$ of 98.89%. The majority of the balance was water. If our customers will be satisfied with this purity then we should require no other seperations. If our customers need less water in their product we would suggest either a pressure swing column or with the purity already high a dehydrated salt could be used to scavenge the water. TRiiSO produces such chemicals specifically targeted at polyurthane production, and presumably our product will be used to produce PVC so this might be a good fit.\n",
    "https://www.tri-iso.com/polyurethane-moisture-scavengers.html\n",
    "\n",
    "The converged values for the design monitor and performance summary are shown below. Please see our flowsheet, included, to view all the column internals. \n",
    "![title](full_col_design_monitor.png)\n",
    "![title](full_col_performance_summary.png)"
   ]
  },
  {
   "cell_type": "markdown",
   "id": "7d5d1a9a",
   "metadata": {},
   "source": [
    "#### Step 3\n",
    "Now we can use the K values from the full column to continue with the Fenske equation specified above\n",
    "\n",
    "![title](kvals_full.png)\n",
    "![title](xvals_top.png)\n",
    "![title](xvals_bot.png)"
   ]
  },
  {
   "cell_type": "code",
   "execution_count": 23,
   "id": "471ac4e5",
   "metadata": {},
   "outputs": [
    {
     "name": "stdout",
     "output_type": "stream",
     "text": [
      "Theoretical min number of stages is 3.632710326160093"
     ]
    }
   ],
   "source": [
    "xLKd = 0.0147\n",
    "kLKd = 1.36\n",
    "xHKd = 0.0052\n",
    "kHKd = 0.1005\n",
    "xLKb = 0.0047\n",
    "kLKb = 2.426\n",
    "xHKb = 0.9889\n",
    "kHKb = 0.9746\n",
    "\n",
    "nmin = fenske(xLKd, kLKd, xHKd, kHKd, xLKb, kLKb, xHKb, kHKb)\n",
    "print(\"Theoretical min number of stages is \", nmin)"
   ]
  },
  {
   "cell_type": "markdown",
   "id": "5cca0613",
   "metadata": {},
   "source": [
    "#### Step 4\n",
    "We can now find the compositions of the non-key components using the step 4 function above:"
   ]
  },
  {
   "cell_type": "code",
   "execution_count": 58,
   "id": "b49d0130",
   "metadata": {},
   "outputs": [
    {
     "name": "stdout",
     "output_type": "stream",
     "text": [
      "13-Butadine bottoms frac 0.05106762265850802 distilate frac 0.25209028368503145\n",
      "Trichloroethane bottoms frac 0.0013683126748047266 distilate frac 6.781339041889518e-7\n",
      "Vinyl chloride bottoms frac 0.08707107965147329 distilate frac 0.5884980727668246\n"
     ]
    }
   ],
   "source": [
    "names = [\"13-Butadine\", \"Trichloroethane\", \"Vinyl chloride\"]\n",
    "kNKd = [0.8793, 4.605e-2, 1.053] #this is 13-Butadiene, 112-ClC2, VinylCl\n",
    "kNKb = [4.824, 0.5795, 4.789]\n",
    "xfi = [0.1493, 0.0007, 0.3321]\n",
    "xHKd = 0.0052\n",
    "xHKb = 0.9889\n",
    "alp = zeros(3)\n",
    "for i = 1:3\n",
    "     alp[i] = geoMean(kNKd[i], kNKb[i], kHKd, kHKb)\n",
    "end\n",
    "\n",
    "F = 4234\n",
    "B = 2165\n",
    "D = F-B\n",
    "\n",
    "for i = 1:3\n",
    "    xbi, xdi = step4(alp[i], nmin, F, D, B, xHKd, xHKb, xfi[i])\n",
    "    print(names[i], \" bottoms frac \", xbi, \" distilate frac \", xdi, '\\n')\n",
    "end"
   ]
  },
  {
   "cell_type": "markdown",
   "id": "417b0825",
   "metadata": {},
   "source": [
    "We can see that our estimates are close, but do have significant error by comparison to the simulated values."
   ]
  },
  {
   "cell_type": "markdown",
   "id": "77ac78e6",
   "metadata": {},
   "source": [
    "#### Step 5\n",
    "Now we can use the Underwood equation defined above to find the minimum reflux ratio."
   ]
  },
  {
   "cell_type": "code",
   "execution_count": 67,
   "id": "a8b763d0",
   "metadata": {},
   "outputs": [
    {
     "data": {
      "text/plain": [
       "-0.9993002087424704"
      ]
     },
     "execution_count": 67,
     "metadata": {},
     "output_type": "execute_result"
    }
   ],
   "source": [
    "kDist = [0.8793, 0.1005, 4.605e-2, 1.36, 1.053]\n",
    "kBot = [4.824, 0.9746, 0.5795, 2.426, 4.789]\n",
    "kHKd = 0.1005\n",
    "kHKb = 0.9746\n",
    "xFeed = [0.1493, 0.5083, 0.0007, 0.0096, 0.3321]\n",
    "qual = 0.7338 #looked at the feed stream in HYSYS\n",
    "xDist = [0.2509, 0.00516, 6.78e-7, 0.0155 , 0.6685]\n",
    "\n",
    "underwood(kDist, kBot, kHKd, kHKb, xFeed, qual, xDist)"
   ]
  },
  {
   "cell_type": "code",
   "execution_count": 59,
   "id": "0a452d24",
   "metadata": {},
   "outputs": [
    {
     "data": {
      "text/plain": [
       "0.15543932199999988"
      ]
     },
     "execution_count": 59,
     "metadata": {},
     "output_type": "execute_result"
    }
   ],
   "source": [
    "1-0.2509-0.00516-6.78e-7-0.5885"
   ]
  },
  {
   "cell_type": "code",
   "execution_count": null,
   "id": "39dd0f75",
   "metadata": {},
   "outputs": [],
   "source": []
  }
 ],
 "metadata": {
  "kernelspec": {
   "display_name": "Julia 1.6.1",
   "language": "julia",
   "name": "julia-1.6"
  },
  "language_info": {
   "file_extension": ".jl",
   "mimetype": "application/julia",
   "name": "julia",
   "version": "1.6.1"
  }
 },
 "nbformat": 4,
 "nbformat_minor": 5
}
